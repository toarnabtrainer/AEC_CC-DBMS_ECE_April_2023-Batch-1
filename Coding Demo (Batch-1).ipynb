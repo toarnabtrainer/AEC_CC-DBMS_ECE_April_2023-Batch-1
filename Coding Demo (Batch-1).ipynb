{
 "cells": [
  {
   "cell_type": "code",
   "execution_count": 3,
   "id": "75449a6d-5b58-4743-9cee-a162cdf4db91",
   "metadata": {},
   "outputs": [
    {
     "name": "stdout",
     "output_type": "stream",
     "text": [
      "Hello Hello Hello \n",
      "Welcome Welcome Welcome Welcome Welcome \n"
     ]
    }
   ],
   "source": [
    "print (\"Hello \" * 3)\n",
    "print (\"Welcome \" * 5)"
   ]
  },
  {
   "cell_type": "code",
   "execution_count": null,
   "id": "a1185243-6b52-4502-8277-b5937bf90540",
   "metadata": {},
   "outputs": [],
   "source": [
    "n = 11 (Odd)   m = (n + 1) // 2 = 6\n",
    "                  i   .   *\n",
    "                -------------\n",
    "***********       1   0  11        (i, m, n)\n",
    ".*********        2   1   9   . => (i - 1)\n",
    "..*******         3   2   7\n",
    "...*****          4   3   5   * => 2 * (m - i) + 1\n",
    "....***           5   4   3\n",
    ".....*          __6___5___1__\n",
    "....***           7   4   3\n",
    "...*****          8   3   5   . => (n - i)\n",
    "..*******         9   2   7\n",
    ".*********       10   1   9   * => 2 * (i - m) + 1\n",
    "***********      11   0  11\n",
    "                -------------\n",
    "                Tracing Table"
   ]
  },
  {
   "cell_type": "code",
   "execution_count": 7,
   "id": "ff36fb8d-d9c3-4a78-b7e7-40bcadb667b5",
   "metadata": {},
   "outputs": [
    {
     "name": "stdin",
     "output_type": "stream",
     "text": [
      "Please enter the ODD number of layers:  10\n",
      "Please enter the ODD number of layers:  20\n",
      "Please enter the ODD number of layers:  12\n",
      "Please enter the ODD number of layers:  14\n",
      "Please enter the ODD number of layers:  11\n"
     ]
    },
    {
     "name": "stdout",
     "output_type": "stream",
     "text": [
      "***********\n",
      ".*********\n",
      "..*******\n",
      "...*****\n",
      "....***\n",
      ".....*\n",
      "....***\n",
      "...*****\n",
      "..*******\n",
      ".*********\n",
      "***********\n",
      "End of the program...\n"
     ]
    }
   ],
   "source": [
    "while (True):\n",
    "    n = int(input(\"Please enter the ODD number of layers: \"))\n",
    "    if (n % 2 == 1): break\n",
    "m = (n + 1) // 2\n",
    "for i in range(1, n + 1):\n",
    "    if (i > m): blank = (n - i); star = 2 * (i - m) + 1\n",
    "    else: blank = (i - 1); star = 2 * (m - i) + 1\n",
    "    print (\".\" * blank + \"*\" * star)\n",
    "print (\"End of the program...\")"
   ]
  },
  {
   "cell_type": "code",
   "execution_count": null,
   "id": "2927177b-cb84-405d-bbf9-d7943bc81b4a",
   "metadata": {},
   "outputs": [],
   "source": [
    "# C++ Code\n",
    "#include <iostream>\n",
    "\n",
    "using namespace std;\n",
    "\n",
    "int main()\n",
    "{\n",
    "    int i, j, n, m, star, blank;\n",
    "    while (true) {\n",
    "        cout << \"Please enter the ODD number of layers: \";\n",
    "        cin >> n;\n",
    "        if (n % 2 == 1) break;\n",
    "    }\n",
    "    m = (n + 1) / 2;\n",
    "    for (i = 1; i <= n; i++) {\n",
    "        if (i > m) {\n",
    "            blank = (n - i);\n",
    "            star = 2 * (i - m) + 1;\n",
    "        } else {\n",
    "            blank = (i - 1); \n",
    "            star = 2 * (m - i) + 1;\n",
    "        }\n",
    "        for (j = 1; j <= blank; j++) cout << \".\";\n",
    "        for (j = 1; j <= star; j++) cout << \"*\";\n",
    "        cout << endl;\n",
    "    }\n",
    "    cout << \"\\nEnd of the program...\";\n",
    "    return 0;\n",
    "}"
   ]
  },
  {
   "cell_type": "code",
   "execution_count": null,
   "id": "3c62a92e-1862-42a8-bc98-63c8bf1aa0d6",
   "metadata": {},
   "outputs": [],
   "source": [
    "# Java Code\n",
    "import java.util.Scanner;\n",
    "public class Main {\n",
    "    public static void main(String[] args) {\n",
    "        Scanner scanner = new Scanner(System.in);\n",
    "        int n, m, b, s;\n",
    "        while (true) {\n",
    "            System.out.print(\"Please enter the ODD number of layers: \");\n",
    "            n = scanner.nextInt();\n",
    "            if (n % 2 == 1) \n",
    "            break;\n",
    "        }\n",
    "        m = (n + 1) / 2;\n",
    "        for (int i = 1; i <= n; i++) {\n",
    "            if (i > m) {\n",
    "                b = (n - i);\n",
    "                s = 2 * (i - m) + 1;\n",
    "            } else {\n",
    "                b = (i - 1);\n",
    "                s = 2 * (m - i) + 1;\n",
    "            }\n",
    "            for (int j = 1; j <= b; j++) {\n",
    "                System.out.print(\".\");\n",
    "            }\n",
    "            for (int j = 1; j <= s; j++) {\n",
    "                System.out.print(\"*\");\n",
    "            }\n",
    "            System.out.println();\n",
    "        }\n",
    "        System.out.println(\"End of the program...\");\n",
    "    }\n",
    "}"
   ]
  },
  {
   "cell_type": "code",
   "execution_count": null,
   "id": "645d5f51-d67f-4002-8136-9b9038913f0e",
   "metadata": {},
   "outputs": [],
   "source": [
    "# HOME WORK:\n",
    "     total = 1 + 2 + 3 + 4 + 10 + 5 + 6 + 7 + 8 + 26 + 9 + 10 + ... n terms\n",
    "Place No. -> 1   2   3   4   5    6   7   8   9   10  11   12 \n",
    "Find the total of this series for one user given value for n.\n",
    "\n",
    "What will be the 99th term of this sequence? -> 80\n",
    "\n",
    "As example:\n",
    "for n = 4, total = 10\n",
    "for n = 5, total = 20\n",
    "for n = 10, total = 72\n",
    "for n = 11, total = 81\n",
    "\n",
    "1 group -> 4 ordinary terms and 1 sum term -> 5 terms\n",
    "20 groups -> 80 ordinary terms and 20 sum terms -> 100 terms"
   ]
  },
  {
   "cell_type": "code",
   "execution_count": null,
   "id": "ec86c95b-8df6-434b-9148-1ca199b0a231",
   "metadata": {},
   "outputs": [],
   "source": [
    "# Pseudocode\n",
    "n = input()\n",
    "temp_sum = final_sum = 0\n",
    "term = 1\n",
    "for i = 1 to n\n",
    "    if (i % 5 == 0) then\n",
    "        final_sum = final_sum + temp_sum\n",
    "        temp_sum = 0\n",
    "    else\n",
    "        final_sum = final_sum + term\n",
    "        temp_sum = temp_sum + term\n",
    "        term = term + 1\n",
    "    end if\n",
    "end for\n",
    "print final_sum\n",
    "end"
   ]
  },
  {
   "cell_type": "code",
   "execution_count": null,
   "id": "4bb3607d-63ba-495f-930c-895c8a01e873",
   "metadata": {},
   "outputs": [],
   "source": [
    "# Implementation in C++\n",
    "#include <iostream>\n",
    "\n",
    "using namespace std;\n",
    "\n",
    "int main() {\n",
    "    int n, final_sum, temp_sum, term, i;\n",
    "    cout<<\"Please enter the number of terms: \";\n",
    "    cin >> n;\n",
    "    temp_sum = final_sum = 0;\n",
    "    term = 1;\n",
    "    for (i = 1; i <= n; i++) {\n",
    "        if (i % 5 == 0) {\n",
    "            final_sum = final_sum + temp_sum;\n",
    "            cout << endl << \"Adding temp_sum = \" << temp_sum;\n",
    "            temp_sum = 0;\n",
    "        } else {\n",
    "            final_sum = final_sum + term;\n",
    "            temp_sum = temp_sum + term;\n",
    "            cout << endl << \"Adding ordinary tem = \" << term;\n",
    "            term = term + 1;\n",
    "        }\n",
    "    }\n",
    "    cout << endl << endl << \"So the final sum is: \" << final_sum;\n",
    "}"
   ]
  },
  {
   "cell_type": "code",
   "execution_count": null,
   "id": "5ed7028b-5f8e-487b-a600-f146b14cc216",
   "metadata": {},
   "outputs": [],
   "source": [
    "# Implementation in Java\n",
    "import java.util.Scanner;\n",
    " \n",
    "public class test {\n",
    "    public static void main(String[] args) {\n",
    "        Scanner sc = new Scanner(System.in);\n",
    "        int n = sc.nextInt();\n",
    "        int tempsum = 0;\n",
    "        int finalsum = 0;\n",
    "        int term = 1;\n",
    " \n",
    "        for (int i = 1; i <= n; i++) {\n",
    "            if (i % 5 == 0) {\n",
    "                finalsum += tempsum;\n",
    "                tempsum = 0;\n",
    "            } else {\n",
    "                finalsum += term;\n",
    "                tempsum += term;\n",
    "                term++;\n",
    "            }\n",
    "        }\n",
    "        System.out.println(finalsum);\n",
    "    }\n",
    "}"
   ]
  },
  {
   "cell_type": "markdown",
   "id": "1b1d9f31-77e8-42f1-8fb0-e881853ff706",
   "metadata": {},
   "source": [
    "### Spiral Fillup"
   ]
  },
  {
   "cell_type": "markdown",
   "id": "4ab7dbe4-c2bf-4e64-9cba-6b5caef2105c",
   "metadata": {},
   "source": [
    "**Fill up a matrix with dimension (n x n) with numbers ranging from 1 to (n*n) in a clockwise spiral way starting from the left top corner. The n will be supplied by the user.**"
   ]
  },
  {
   "cell_type": "code",
   "execution_count": null,
   "id": "2762718d-8660-4352-bd1d-441d401f4b9f",
   "metadata": {},
   "outputs": [],
   "source": [
    "n = 5 (User given integer)    r => row no., c => col no., rr => incr/decr row (0, 1, -1), cc => incr/decr col (0, 1, -1)\n",
    "                              everytime r = r + rr, c = c + cc => r += rr, c += cc\n",
    "      0   1   2   3   4       initially r = 0, c = 0, rr = 0, cc = 1\n",
    "--------------------------      rr   cc                 1. Limit Check\n",
    " 0 |  1   2   3   4   5       -----------   tt = rr        1. if (c == n)\n",
    " 1 | 16  17  18  19   6          0    1     rr = cc        2. if (r == n)\n",
    " 2 | 15  24  25  20   7          1    0     cc = -tt       3. if (c == -1)\n",
    " 3 | 14  23  22  21   8          0   -1     (rr, cc = cc, -rr)\n",
    " 4 | 13  12  11  10   9         -1    0     tt = cc     2. Pre-Occupied Check\n",
    "--------------------------    -----------   cc = -rr       4. if (a[r][c] != 0)\n",
    "                                 0    1     rr = tt     if ((c == n) or (r == n) or (c == -1) or (a[r][c] != 0))"
   ]
  },
  {
   "cell_type": "code",
   "execution_count": 18,
   "id": "165d2019-b5ed-40c0-ac7e-0b78a463f12d",
   "metadata": {},
   "outputs": [
    {
     "name": "stdin",
     "output_type": "stream",
     "text": [
      "Please enter the ODD dimension of the matrix:  10\n",
      "Please enter the ODD dimension of the matrix:  12\n",
      "Please enter the ODD dimension of the matrix:  8\n",
      "Please enter the ODD dimension of the matrix:  5\n"
     ]
    },
    {
     "name": "stdout",
     "output_type": "stream",
     "text": [
      "[[0, 0, 0, 0, 0], [0, 0, 0, 0, 0], [0, 0, 0, 0, 0], [0, 0, 0, 0, 0], [0, 0, 0, 0, 0]]\n",
      "[[1, 2, 3, 4, 5], [16, 17, 18, 19, 6], [15, 24, 25, 20, 7], [14, 23, 22, 21, 8], [13, 12, 11, 10, 9]]\n",
      "    1    2    3    4    5\n",
      "   16   17   18   19    6\n",
      "   15   24   25   20    7\n",
      "   14   23   22   21    8\n",
      "   13   12   11   10    9\n",
      "End of the program...\n"
     ]
    }
   ],
   "source": [
    "while(True):\n",
    "    n = int(input(\"Please enter the ODD dimension of the matrix: \"))\n",
    "    if (n % 2 == 1): break\n",
    "arr = [[0 for i in range(n)] for j in range(n)]\n",
    "print (arr)\n",
    "r = 0; c = 0; rr = 0; cc = 1\n",
    "for i in range(1, (n * n) + 1):\n",
    "    arr[r][c] = i\n",
    "    tr = r + rr; tc = c + cc\n",
    "    if ((tc == n) or (tr == n) or (tc == -1) or (arr[tr][tc] != 0)):\n",
    "        # tt = rr; rr = cc; cc = -tt\n",
    "        rr, cc = cc, -rr\n",
    "    r = r + rr\n",
    "    c = c + cc\n",
    "print (arr)\n",
    "for r in range(n):\n",
    "    for c in range(n):\n",
    "        print (\"%5d\"%arr[r][c], end = \"\")\n",
    "    print (\"\")\n",
    "print (\"End of the program...\")"
   ]
  },
  {
   "cell_type": "code",
   "execution_count": null,
   "id": "571c010e-c83f-45cb-b51a-eeee2d0093bf",
   "metadata": {},
   "outputs": [],
   "source": [
    "LeetCode 59. Spiral Matrix II (https://leetcode.com/problems/spiral-matrix-ii/)\n",
    "Given a positive integer n, generate an n x n matrix filled with elements from 1 to n2 in spiral order.\n",
    "\n",
    "Example 1:\n",
    "Input: n = 3\n",
    "Output: [[1,2,3],[8,9,4],[7,6,5]]\n",
    "    \n",
    "Example 2:\n",
    "Input: n = 1\n",
    "Output: [[1]]"
   ]
  },
  {
   "cell_type": "code",
   "execution_count": 19,
   "id": "776f9ca3-3f44-45ea-8029-63810bce367a",
   "metadata": {},
   "outputs": [
    {
     "name": "stdout",
     "output_type": "stream",
     "text": [
      "[[1, 2, 3], [8, 9, 4], [7, 6, 5]]\n",
      "[[1, 2, 3, 4, 5], [16, 17, 18, 19, 6], [15, 24, 25, 20, 7], [14, 23, 22, 21, 8], [13, 12, 11, 10, 9]]\n"
     ]
    }
   ],
   "source": [
    "# LeetCode solution\n",
    "class Solution(object):\n",
    "    def generateMatrix(self, n):\n",
    "        \"\"\"\n",
    "        :type n: int\n",
    "        :rtype: List[List[int]]\n",
    "        \"\"\"\n",
    "        arr = [[0 for i in range(n)] for j in range(n)]\n",
    "        r = 0; c = 0; rr = 0; cc = 1\n",
    "        for i in range(1, (n * n) + 1):\n",
    "            arr[r][c] = i\n",
    "            tr = r + rr; tc = c + cc\n",
    "            if ((tc == n) or (tr == n) or (tc == -1) or (arr[tr][tc] != 0)):\n",
    "                rr, cc = cc, -rr\n",
    "            r = r + rr\n",
    "            c = c + cc\n",
    "        return arr\n",
    "    \n",
    "ob = Solution()\n",
    "print (ob.generateMatrix(3))\n",
    "print (ob.generateMatrix(5))"
   ]
  },
  {
   "cell_type": "code",
   "execution_count": null,
   "id": "d2a21702-a956-4c30-911d-9e4773eed79c",
   "metadata": {},
   "outputs": [],
   "source": [
    "LeetCode: 54. Spiral Matrix (https://leetcode.com/problems/spiral-matrix/)\n",
    "Given an m x n matrix, return all elements of the matrix in spiral order.\n",
    "\n",
    "Example 1:\n",
    "Input: matrix = [[1,2,3],[4,5,6],[7,8,9]]\n",
    "Output: [1,2,3,6,9,8,7,4,5]\n",
    "\n",
    "Example 2:\n",
    "Input: matrix = [[1,2,3,4],[5,6,7,8],[9,10,11,12]]\n",
    "Output: [1,2,3,4,8,12,11,10,9,5,6,7]\n",
    "\n",
    "Constraints:\n",
    "\n",
    "m == matrix.length\n",
    "n == matrix[i].length\n",
    "1 <= m, n <= 10\n",
    "-100 <= matrix[i][j] <= 100"
   ]
  },
  {
   "cell_type": "code",
   "execution_count": 25,
   "id": "70c1691f-b317-4159-a4d7-2d2de3fca03f",
   "metadata": {},
   "outputs": [
    {
     "name": "stdout",
     "output_type": "stream",
     "text": [
      "[0, 0, 0, 0, 0, 0, 0, 0, 0, 0, 0, 0]\n"
     ]
    },
    {
     "data": {
      "text/plain": [
       "[1, 2, 3, 4, 8, 12, 11, 10, 9, 5, 6, 7]"
      ]
     },
     "execution_count": 25,
     "metadata": {},
     "output_type": "execute_result"
    }
   ],
   "source": [
    "class Solution(object):\n",
    "    def spiralOrder(self, matrix):\n",
    "        \"\"\"\n",
    "        :type matrix: List[List[int]]\n",
    "        :rtype: List[int]\n",
    "        \"\"\"\n",
    "        max_row = len(matrix)\n",
    "        if (max_row == 0): return []\n",
    "        max_col = len(matrix[0])\n",
    "        result_list = [0 for i in range(max_row * max_col)]\n",
    "        print (result_list)\n",
    "        r = c = rr = 0; cc = 1\n",
    "        min_col = min_row = -1\n",
    "        for i in range(max_row * max_col):\n",
    "            result_list[i] = matrix[r][c]\n",
    "            tr = r + rr; tc = c + cc\n",
    "            if (tc == max_col or tr == max_row or tc == min_col or tr == min_row):\n",
    "                rr, cc = cc, -rr\n",
    "                if (tc == max_col): min_row += 1\n",
    "                elif (tr == max_row): max_col -= 1\n",
    "                elif (tc == min_col): max_row -= 1\n",
    "                elif (tr == min_row): min_col += 1\n",
    "            r = r + rr; c = c + cc\n",
    "        return result_list\n",
    "            \n",
    "ob = Solution()\n",
    "ob.spiralOrder([[1,2,3,4],[5,6,7,8],[9,10,11,12]])"
   ]
  },
  {
   "cell_type": "code",
   "execution_count": 22,
   "id": "db36501b-25a2-4abc-8f06-5a7b746eb557",
   "metadata": {},
   "outputs": [
    {
     "name": "stdout",
     "output_type": "stream",
     "text": [
      "2 4 4\n"
     ]
    }
   ],
   "source": [
    "list1 = [[1, 2, 3, 4], [5, 6, 7, 8]]\n",
    "print (len(list1), len(list1[0]), len(list1[1]))"
   ]
  },
  {
   "cell_type": "markdown",
   "id": "7905cee3-9313-4d23-8ab0-e4e357a65bcf",
   "metadata": {},
   "source": [
    "**CLass Work:**\n",
    "\n",
    "Fill up a matrix with dimension (n x n) with numbers ranging from 1 to (n*n) in a **anti-clockwise** spiral way starting from the left top corner. The n will be supplied by the user."
   ]
  },
  {
   "cell_type": "code",
   "execution_count": null,
   "id": "5eb78f8e-b04a-4bfc-9705-9c9743742534",
   "metadata": {},
   "outputs": [],
   "source": [
    "n = 5 (User given integer)    r => row no., c => col no., rr => incr/decr row (0, 1, -1), cc => incr/decr col (0, 1, -1)\n",
    "                              everytime r = r + rr, c = c + cc => r += rr, c += cc\n",
    "      0   1   2   3   4       initially r = 0, c = 0, rr = 0, cc = 1\n",
    "--------------------------      rr   cc                 1. Limit Check\n",
    " 0 |  1  16  15  14  13       -----------   tt = rr        1. if (c == n)\n",
    " 1 |  2  17  24  23  12          0    1     rr = cc        2. if (r == n)\n",
    " 2 |  3  18  25  22  11          1    0     cc = -tt       3. if (c == -1)\n",
    " 3 |  4  19  20  21  10          0   -1     (rr, cc = cc, -rr)\n",
    " 4 |  5   6   7   8   9         -1    0     tt = cc     2. Pre-Occupied Check\n",
    "--------------------------    -----------   cc = -rr       4. if (a[r][c] != 0)\n",
    "                                 0    1     rr = tt     if ((c == n) or (r == n) or (c == -1) or (a[r][c] != 0))"
   ]
  },
  {
   "cell_type": "code",
   "execution_count": null,
   "id": "c9410d34-06cf-4f73-90e1-72aa5d2437e5",
   "metadata": {},
   "outputs": [],
   "source": []
  },
  {
   "cell_type": "code",
   "execution_count": null,
   "id": "c6a8ebe6-4e46-4852-85ee-09056aca4778",
   "metadata": {},
   "outputs": [],
   "source": []
  },
  {
   "cell_type": "code",
   "execution_count": null,
   "id": "17353b5e-593d-4134-8187-d5043ab2ed50",
   "metadata": {},
   "outputs": [],
   "source": []
  },
  {
   "cell_type": "code",
   "execution_count": null,
   "id": "f62f6508-3036-47d4-be04-18d3fc942106",
   "metadata": {},
   "outputs": [],
   "source": []
  },
  {
   "cell_type": "code",
   "execution_count": null,
   "id": "70649e20-07be-4f17-8848-de61fcdcc415",
   "metadata": {},
   "outputs": [],
   "source": []
  },
  {
   "cell_type": "code",
   "execution_count": null,
   "id": "4ceb987f-b12e-4fb7-9b91-e57f74f915a4",
   "metadata": {},
   "outputs": [],
   "source": []
  },
  {
   "cell_type": "code",
   "execution_count": null,
   "id": "39aebbe0-cc11-4e49-a11c-29d1733d10cf",
   "metadata": {},
   "outputs": [],
   "source": []
  },
  {
   "cell_type": "code",
   "execution_count": null,
   "id": "b782c6e4-b510-4551-b552-d3cb2dfbb6a7",
   "metadata": {},
   "outputs": [],
   "source": []
  },
  {
   "cell_type": "code",
   "execution_count": null,
   "id": "45d005a7-1382-4c56-ad0b-b434ca807b25",
   "metadata": {},
   "outputs": [],
   "source": []
  }
 ],
 "metadata": {
  "kernelspec": {
   "display_name": "Python 3",
   "language": "python",
   "name": "python3"
  },
  "language_info": {
   "codemirror_mode": {
    "name": "ipython",
    "version": 3
   },
   "file_extension": ".py",
   "mimetype": "text/x-python",
   "name": "python",
   "nbconvert_exporter": "python",
   "pygments_lexer": "ipython3",
   "version": "3.8.8"
  }
 },
 "nbformat": 4,
 "nbformat_minor": 5
}
