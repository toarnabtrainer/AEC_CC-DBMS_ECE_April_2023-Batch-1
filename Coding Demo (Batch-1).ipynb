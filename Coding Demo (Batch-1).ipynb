{
 "cells": [
  {
   "cell_type": "code",
   "execution_count": 3,
   "id": "75449a6d-5b58-4743-9cee-a162cdf4db91",
   "metadata": {},
   "outputs": [
    {
     "name": "stdout",
     "output_type": "stream",
     "text": [
      "Hello Hello Hello \n",
      "Welcome Welcome Welcome Welcome Welcome \n"
     ]
    }
   ],
   "source": [
    "print (\"Hello \" * 3)\n",
    "print (\"Welcome \" * 5)"
   ]
  },
  {
   "cell_type": "code",
   "execution_count": null,
   "id": "a1185243-6b52-4502-8277-b5937bf90540",
   "metadata": {},
   "outputs": [],
   "source": [
    "n = 11 (Odd)   m = (n + 1) // 2 = 6\n",
    "                  i   .   *\n",
    "                -------------\n",
    "***********       1   0  11        (i, m, n)\n",
    ".*********        2   1   9   . => (i - 1)\n",
    "..*******         3   2   7\n",
    "...*****          4   3   5   * => 2 * (m - i) + 1\n",
    "....***           5   4   3\n",
    ".....*          __6___5___1__\n",
    "....***           7   4   3\n",
    "...*****          8   3   5   . => (n - i)\n",
    "..*******         9   2   7\n",
    ".*********       10   1   9   * => 2 * (i - m) + 1\n",
    "***********      11   0  11\n",
    "                -------------\n",
    "                Tracing Table"
   ]
  },
  {
   "cell_type": "code",
   "execution_count": 7,
   "id": "ff36fb8d-d9c3-4a78-b7e7-40bcadb667b5",
   "metadata": {},
   "outputs": [
    {
     "name": "stdin",
     "output_type": "stream",
     "text": [
      "Please enter the ODD number of layers:  10\n",
      "Please enter the ODD number of layers:  20\n",
      "Please enter the ODD number of layers:  12\n",
      "Please enter the ODD number of layers:  14\n",
      "Please enter the ODD number of layers:  11\n"
     ]
    },
    {
     "name": "stdout",
     "output_type": "stream",
     "text": [
      "***********\n",
      ".*********\n",
      "..*******\n",
      "...*****\n",
      "....***\n",
      ".....*\n",
      "....***\n",
      "...*****\n",
      "..*******\n",
      ".*********\n",
      "***********\n",
      "End of the program...\n"
     ]
    }
   ],
   "source": [
    "while (True):\n",
    "    n = int(input(\"Please enter the ODD number of layers: \"))\n",
    "    if (n % 2 == 1): break\n",
    "m = (n + 1) // 2\n",
    "for i in range(1, n + 1):\n",
    "    if (i > m): blank = (n - i); star = 2 * (i - m) + 1\n",
    "    else: blank = (i - 1); star = 2 * (m - i) + 1\n",
    "    print (\".\" * blank + \"*\" * star)\n",
    "print (\"End of the program...\")"
   ]
  },
  {
   "cell_type": "code",
   "execution_count": null,
   "id": "2927177b-cb84-405d-bbf9-d7943bc81b4a",
   "metadata": {},
   "outputs": [],
   "source": [
    "# C++ Code\n",
    "#include <iostream>\n",
    "\n",
    "using namespace std;\n",
    "\n",
    "int main()\n",
    "{\n",
    "    int i, j, n, m, star, blank;\n",
    "    while (true) {\n",
    "        cout << \"Please enter the ODD number of layers: \";\n",
    "        cin >> n;\n",
    "        if (n % 2 == 1) break;\n",
    "    }\n",
    "    m = (n + 1) / 2;\n",
    "    for (i = 1; i <= n; i++) {\n",
    "        if (i > m) {\n",
    "            blank = (n - i);\n",
    "            star = 2 * (i - m) + 1;\n",
    "        } else {\n",
    "            blank = (i - 1); \n",
    "            star = 2 * (m - i) + 1;\n",
    "        }\n",
    "        for (j = 1; j <= blank; j++) cout << \".\";\n",
    "        for (j = 1; j <= star; j++) cout << \"*\";\n",
    "        cout << endl;\n",
    "    }\n",
    "    cout << \"\\nEnd of the program...\";\n",
    "    return 0;\n",
    "}"
   ]
  },
  {
   "cell_type": "code",
   "execution_count": null,
   "id": "3c62a92e-1862-42a8-bc98-63c8bf1aa0d6",
   "metadata": {},
   "outputs": [],
   "source": [
    "# Java Code\n",
    "import java.util.Scanner;\n",
    "public class Main {\n",
    "    public static void main(String[] args) {\n",
    "        Scanner scanner = new Scanner(System.in);\n",
    "        int n, m, b, s;\n",
    "        while (true) {\n",
    "            System.out.print(\"Please enter the ODD number of layers: \");\n",
    "            n = scanner.nextInt();\n",
    "            if (n % 2 == 1) \n",
    "            break;\n",
    "        }\n",
    "        m = (n + 1) / 2;\n",
    "        for (int i = 1; i <= n; i++) {\n",
    "            if (i > m) {\n",
    "                b = (n - i);\n",
    "                s = 2 * (i - m) + 1;\n",
    "            } else {\n",
    "                b = (i - 1);\n",
    "                s = 2 * (m - i) + 1;\n",
    "            }\n",
    "            for (int j = 1; j <= b; j++) {\n",
    "                System.out.print(\".\");\n",
    "            }\n",
    "            for (int j = 1; j <= s; j++) {\n",
    "                System.out.print(\"*\");\n",
    "            }\n",
    "            System.out.println();\n",
    "        }\n",
    "        System.out.println(\"End of the program...\");\n",
    "    }\n",
    "}"
   ]
  },
  {
   "cell_type": "code",
   "execution_count": null,
   "id": "645d5f51-d67f-4002-8136-9b9038913f0e",
   "metadata": {},
   "outputs": [],
   "source": [
    "# HOME WORK:\n",
    "     total = 1 + 2 + 3 + 4 + 10 + 5 + 6 + 7 + 8 + 26 + 9 + 10 + ... n terms\n",
    "Place No. -> 1   2   3   4   5    6   7   8   9   10  11   12 \n",
    "Find the total of this series for one user given value for n.\n",
    "\n",
    "What will be the 99th term of this sequence? -> 80\n",
    "\n",
    "As example:\n",
    "for n = 4, total = 10\n",
    "for n = 5, total = 20\n",
    "for n = 10, total = 72\n",
    "for n = 11, total = 81\n",
    "\n",
    "1 group -> 4 ordinary terms and 1 sum term -> 5 terms\n",
    "20 groups -> 80 ordinary terms and 20 sum terms -> 100 terms"
   ]
  },
  {
   "cell_type": "code",
   "execution_count": null,
   "id": "ec86c95b-8df6-434b-9148-1ca199b0a231",
   "metadata": {},
   "outputs": [],
   "source": [
    "# Pseudocode\n",
    "n = input()\n",
    "temp_sum = final_sum = 0\n",
    "term = 1\n",
    "for i = 1 to n\n",
    "    if (i % 5 == 0) then\n",
    "        final_sum = final_sum + temp_sum\n",
    "        temp_sum = 0\n",
    "    else\n",
    "        final_sum = final_sum + term\n",
    "        temp_sum = temp_sum + term\n",
    "        term = term + 1\n",
    "    end if\n",
    "end for\n",
    "print final_sum\n",
    "end"
   ]
  },
  {
   "cell_type": "code",
   "execution_count": null,
   "id": "4bb3607d-63ba-495f-930c-895c8a01e873",
   "metadata": {},
   "outputs": [],
   "source": [
    "# Implementation in C++\n",
    "#include <iostream>\n",
    "\n",
    "using namespace std;\n",
    "\n",
    "int main() {\n",
    "    int n, final_sum, temp_sum, term, i;\n",
    "    cout<<\"Please enter the number of terms: \";\n",
    "    cin >> n;\n",
    "    temp_sum = final_sum = 0;\n",
    "    term = 1;\n",
    "    for (i = 1; i <= n; i++) {\n",
    "        if (i % 5 == 0) {\n",
    "            final_sum = final_sum + temp_sum;\n",
    "            cout << endl << \"Adding temp_sum = \" << temp_sum;\n",
    "            temp_sum = 0;\n",
    "        } else {\n",
    "            final_sum = final_sum + term;\n",
    "            temp_sum = temp_sum + term;\n",
    "            cout << endl << \"Adding ordinary tem = \" << term;\n",
    "            term = term + 1;\n",
    "        }\n",
    "    }\n",
    "    cout << endl << endl << \"So the final sum is: \" << final_sum;\n",
    "}"
   ]
  },
  {
   "cell_type": "code",
   "execution_count": null,
   "id": "5ed7028b-5f8e-487b-a600-f146b14cc216",
   "metadata": {},
   "outputs": [],
   "source": [
    "# Implementation in Java\n",
    "import java.util.Scanner;\n",
    " \n",
    "public class test {\n",
    "    public static void main(String[] args) {\n",
    "        Scanner sc = new Scanner(System.in);\n",
    "        int n = sc.nextInt();\n",
    "        int tempsum = 0;\n",
    "        int finalsum = 0;\n",
    "        int term = 1;\n",
    " \n",
    "        for (int i = 1; i <= n; i++) {\n",
    "            if (i % 5 == 0) {\n",
    "                finalsum += tempsum;\n",
    "                tempsum = 0;\n",
    "            } else {\n",
    "                finalsum += term;\n",
    "                tempsum += term;\n",
    "                term++;\n",
    "            }\n",
    "        }\n",
    "        System.out.println(finalsum);\n",
    "    }\n",
    "}"
   ]
  },
  {
   "cell_type": "markdown",
   "id": "1b1d9f31-77e8-42f1-8fb0-e881853ff706",
   "metadata": {},
   "source": [
    "### Spiral Fillup"
   ]
  },
  {
   "cell_type": "markdown",
   "id": "4ab7dbe4-c2bf-4e64-9cba-6b5caef2105c",
   "metadata": {},
   "source": [
    "**Fill up a matrix with dimension (n x n) with numbers ranging from 1 to (n*n) in a clockwise spiral way starting from the left top corner. The n will be supplied by the user.**"
   ]
  },
  {
   "cell_type": "code",
   "execution_count": null,
   "id": "2762718d-8660-4352-bd1d-441d401f4b9f",
   "metadata": {},
   "outputs": [],
   "source": [
    "n = 5 (User given integer)    r => row no., c => col no., rr => incr/decr row (0, 1, -1), cc => incr/decr col (0, 1, -1)\n",
    "                              everytime r = r + rr, c = c + cc => r += rr, c += cc\n",
    "      0   1   2   3   4       initially r = 0, c = 0, rr = 0, cc = 1\n",
    "--------------------------      rr   cc                 1. Limit Check\n",
    " 0 |  1   2   3   4   5       -----------   tt = rr        1. if (c == n)\n",
    " 1 | 16  17  18  19   6          0    1     rr = cc        2. if (r == n)\n",
    " 2 | 15  24  25  20   7          1    0     cc = -tt       3. if (c == -1)\n",
    " 3 | 14  23  22  21   8          0   -1     (rr, cc = cc, -rr)\n",
    " 4 | 13  12  11  10   9         -1    0     tt = cc     2. Pre-Occupied Check\n",
    "--------------------------    -----------   cc = -rr       4. if (a[r][c] != 0)\n",
    "                                 0    1     rr = tt     if ((c == n) or (r == n) or (c == -1) or (a[r][c] != 0))"
   ]
  },
  {
   "cell_type": "code",
   "execution_count": 18,
   "id": "165d2019-b5ed-40c0-ac7e-0b78a463f12d",
   "metadata": {},
   "outputs": [
    {
     "name": "stdin",
     "output_type": "stream",
     "text": [
      "Please enter the ODD dimension of the matrix:  10\n",
      "Please enter the ODD dimension of the matrix:  12\n",
      "Please enter the ODD dimension of the matrix:  8\n",
      "Please enter the ODD dimension of the matrix:  5\n"
     ]
    },
    {
     "name": "stdout",
     "output_type": "stream",
     "text": [
      "[[0, 0, 0, 0, 0], [0, 0, 0, 0, 0], [0, 0, 0, 0, 0], [0, 0, 0, 0, 0], [0, 0, 0, 0, 0]]\n",
      "[[1, 2, 3, 4, 5], [16, 17, 18, 19, 6], [15, 24, 25, 20, 7], [14, 23, 22, 21, 8], [13, 12, 11, 10, 9]]\n",
      "    1    2    3    4    5\n",
      "   16   17   18   19    6\n",
      "   15   24   25   20    7\n",
      "   14   23   22   21    8\n",
      "   13   12   11   10    9\n",
      "End of the program...\n"
     ]
    }
   ],
   "source": [
    "while(True):\n",
    "    n = int(input(\"Please enter the ODD dimension of the matrix: \"))\n",
    "    if (n % 2 == 1): break\n",
    "arr = [[0 for i in range(n)] for j in range(n)]\n",
    "print (arr)\n",
    "r = 0; c = 0; rr = 0; cc = 1\n",
    "for i in range(1, (n * n) + 1):\n",
    "    arr[r][c] = i\n",
    "    tr = r + rr; tc = c + cc\n",
    "    if ((tc == n) or (tr == n) or (tc == -1) or (arr[tr][tc] != 0)):\n",
    "        # tt = rr; rr = cc; cc = -tt\n",
    "        rr, cc = cc, -rr\n",
    "    r = r + rr\n",
    "    c = c + cc\n",
    "print (arr)\n",
    "for r in range(n):\n",
    "    for c in range(n):\n",
    "        print (\"%5d\"%arr[r][c], end = \"\")\n",
    "    print (\"\")\n",
    "print (\"End of the program...\")"
   ]
  },
  {
   "cell_type": "code",
   "execution_count": null,
   "id": "571c010e-c83f-45cb-b51a-eeee2d0093bf",
   "metadata": {},
   "outputs": [],
   "source": [
    "LeetCode 59. Spiral Matrix II (https://leetcode.com/problems/spiral-matrix-ii/)\n",
    "Given a positive integer n, generate an n x n matrix filled with elements from 1 to n2 in spiral order.\n",
    "\n",
    "Example 1:\n",
    "Input: n = 3\n",
    "Output: [[1,2,3],[8,9,4],[7,6,5]]\n",
    "    \n",
    "Example 2:\n",
    "Input: n = 1\n",
    "Output: [[1]]"
   ]
  },
  {
   "cell_type": "code",
   "execution_count": 19,
   "id": "776f9ca3-3f44-45ea-8029-63810bce367a",
   "metadata": {},
   "outputs": [
    {
     "name": "stdout",
     "output_type": "stream",
     "text": [
      "[[1, 2, 3], [8, 9, 4], [7, 6, 5]]\n",
      "[[1, 2, 3, 4, 5], [16, 17, 18, 19, 6], [15, 24, 25, 20, 7], [14, 23, 22, 21, 8], [13, 12, 11, 10, 9]]\n"
     ]
    }
   ],
   "source": [
    "# LeetCode solution\n",
    "class Solution(object):\n",
    "    def generateMatrix(self, n):\n",
    "        \"\"\"\n",
    "        :type n: int\n",
    "        :rtype: List[List[int]]\n",
    "        \"\"\"\n",
    "        arr = [[0 for i in range(n)] for j in range(n)]\n",
    "        r = 0; c = 0; rr = 0; cc = 1\n",
    "        for i in range(1, (n * n) + 1):\n",
    "            arr[r][c] = i\n",
    "            tr = r + rr; tc = c + cc\n",
    "            if ((tc == n) or (tr == n) or (tc == -1) or (arr[tr][tc] != 0)):\n",
    "                rr, cc = cc, -rr\n",
    "            r = r + rr\n",
    "            c = c + cc\n",
    "        return arr\n",
    "    \n",
    "ob = Solution()\n",
    "print (ob.generateMatrix(3))\n",
    "print (ob.generateMatrix(5))"
   ]
  },
  {
   "cell_type": "code",
   "execution_count": null,
   "id": "d2a21702-a956-4c30-911d-9e4773eed79c",
   "metadata": {},
   "outputs": [],
   "source": [
    "LeetCode: 54. Spiral Matrix (https://leetcode.com/problems/spiral-matrix/)\n",
    "Given an m x n matrix, return all elements of the matrix in spiral order.\n",
    "\n",
    "Example 1:\n",
    "Input: matrix = [[1,2,3],[4,5,6],[7,8,9]]\n",
    "Output: [1,2,3,6,9,8,7,4,5]\n",
    "\n",
    "Example 2:\n",
    "Input: matrix = [[1,2,3,4],[5,6,7,8],[9,10,11,12]]\n",
    "Output: [1,2,3,4,8,12,11,10,9,5,6,7]\n",
    "\n",
    "Constraints:\n",
    "\n",
    "m == matrix.length\n",
    "n == matrix[i].length\n",
    "1 <= m, n <= 10\n",
    "-100 <= matrix[i][j] <= 100"
   ]
  },
  {
   "cell_type": "code",
   "execution_count": 25,
   "id": "70c1691f-b317-4159-a4d7-2d2de3fca03f",
   "metadata": {},
   "outputs": [
    {
     "name": "stdout",
     "output_type": "stream",
     "text": [
      "[0, 0, 0, 0, 0, 0, 0, 0, 0, 0, 0, 0]\n"
     ]
    },
    {
     "data": {
      "text/plain": [
       "[1, 2, 3, 4, 8, 12, 11, 10, 9, 5, 6, 7]"
      ]
     },
     "execution_count": 25,
     "metadata": {},
     "output_type": "execute_result"
    }
   ],
   "source": [
    "class Solution(object):\n",
    "    def spiralOrder(self, matrix):\n",
    "        \"\"\"\n",
    "        :type matrix: List[List[int]]\n",
    "        :rtype: List[int]\n",
    "        \"\"\"\n",
    "        max_row = len(matrix)\n",
    "        if (max_row == 0): return []\n",
    "        max_col = len(matrix[0])\n",
    "        result_list = [0 for i in range(max_row * max_col)]\n",
    "        print (result_list)\n",
    "        r = c = rr = 0; cc = 1\n",
    "        min_col = min_row = -1\n",
    "        for i in range(max_row * max_col):\n",
    "            result_list[i] = matrix[r][c]\n",
    "            tr = r + rr; tc = c + cc\n",
    "            if (tc == max_col or tr == max_row or tc == min_col or tr == min_row):\n",
    "                rr, cc = cc, -rr\n",
    "                if (tc == max_col): min_row += 1\n",
    "                elif (tr == max_row): max_col -= 1\n",
    "                elif (tc == min_col): max_row -= 1\n",
    "                elif (tr == min_row): min_col += 1\n",
    "            r = r + rr; c = c + cc\n",
    "        return result_list\n",
    "            \n",
    "ob = Solution()\n",
    "ob.spiralOrder([[1,2,3,4],[5,6,7,8],[9,10,11,12]])"
   ]
  },
  {
   "cell_type": "code",
   "execution_count": 22,
   "id": "db36501b-25a2-4abc-8f06-5a7b746eb557",
   "metadata": {},
   "outputs": [
    {
     "name": "stdout",
     "output_type": "stream",
     "text": [
      "2 4 4\n"
     ]
    }
   ],
   "source": [
    "list1 = [[1, 2, 3, 4], [5, 6, 7, 8]]\n",
    "print (len(list1), len(list1[0]), len(list1[1]))"
   ]
  },
  {
   "cell_type": "markdown",
   "id": "7905cee3-9313-4d23-8ab0-e4e357a65bcf",
   "metadata": {},
   "source": [
    "**CLass Work:**\n",
    "\n",
    "Fill up a matrix with dimension (n x n) with numbers ranging from 1 to (n*n) in a **anti-clockwise** spiral way starting from the left top corner. The n will be supplied by the user."
   ]
  },
  {
   "cell_type": "code",
   "execution_count": null,
   "id": "5eb78f8e-b04a-4bfc-9705-9c9743742534",
   "metadata": {},
   "outputs": [],
   "source": [
    "n = 5 (User given integer)    r => row no., c => col no., rr => incr/decr row (0, 1, -1), cc => incr/decr col (0, 1, -1)\n",
    "                              everytime r = r + rr, c = c + cc => r += rr, c += cc\n",
    "      0   1   2   3   4       initially r = 0, c = 0, rr = 0, cc = 1\n",
    "--------------------------      rr   cc                 1. Limit Check\n",
    " 0 |  1  16  15  14  13       -----------   tt = rr        1. if (c == n)\n",
    " 1 |  2  17  24  23  12          0    1     rr = cc        2. if (r == n)\n",
    " 2 |  3  18  25  22  11          1    0     cc = -tt       3. if (c == -1)\n",
    " 3 |  4  19  20  21  10          0   -1     (rr, cc = cc, -rr)\n",
    " 4 |  5   6   7   8   9         -1    0     tt = cc     2. Pre-Occupied Check\n",
    "--------------------------    -----------   cc = -rr       4. if (a[r][c] != 0)\n",
    "                                 0    1     rr = tt     if ((c == n) or (r == n) or (c == -1) or (a[r][c] != 0))"
   ]
  },
  {
   "cell_type": "code",
   "execution_count": 32,
   "id": "c9410d34-06cf-4f73-90e1-72aa5d2437e5",
   "metadata": {},
   "outputs": [
    {
     "name": "stdin",
     "output_type": "stream",
     "text": [
      "Please enter the ODD dimension of the matrix:  5\n"
     ]
    },
    {
     "name": "stdout",
     "output_type": "stream",
     "text": [
      "[[0, 0, 0, 0, 0], [0, 0, 0, 0, 0], [0, 0, 0, 0, 0], [0, 0, 0, 0, 0], [0, 0, 0, 0, 0]]\n",
      "[[1, 16, 15, 14, 13], [2, 17, 24, 23, 12], [3, 18, 25, 22, 11], [4, 19, 20, 21, 10], [5, 6, 7, 8, 9]]\n",
      "    1   16   15   14   13\n",
      "    2   17   24   23   12\n",
      "    3   18   25   22   11\n",
      "    4   19   20   21   10\n",
      "    5    6    7    8    9\n",
      "End of the program...\n"
     ]
    }
   ],
   "source": [
    "while(True):\n",
    "    n = int(input(\"Please enter the ODD dimension of the matrix: \"))\n",
    "    if (n % 2 == 1): break\n",
    "arr = [[0 for i in range(n)] for j in range(n)]\n",
    "print (arr)\n",
    "r = 0; c = 0; rr = 1; cc = 0\n",
    "for i in range(1, (n * n) + 1):\n",
    "    arr[r][c] = i\n",
    "    tr = r + rr; tc = c + cc\n",
    "    if ((tc == n) or (tr == n) or (tr == -1) or (arr[tr][tc] != 0)):\n",
    "        # tt = rr; rr = cc; cc = -tt\n",
    "        rr, cc = -cc, rr\n",
    "    r = r + rr\n",
    "    c = c + cc\n",
    "print (arr)\n",
    "for r in range(n):\n",
    "    for c in range(n):\n",
    "        print (\"%5d\"%arr[r][c], end = \"\")\n",
    "    print (\"\")\n",
    "print (\"End of the program...\")"
   ]
  },
  {
   "cell_type": "markdown",
   "id": "8e4fec40-1e89-40a3-8a23-f7f292c66f7f",
   "metadata": {},
   "source": [
    "### Magic Square"
   ]
  },
  {
   "cell_type": "markdown",
   "id": "0fc6f8fe-2a40-48f7-94b0-4aed34ccbd77",
   "metadata": {},
   "source": [
    "**Fill up a matrix with dimension (n x n) (where n is a user given odd integer number) with numbers ranging from 1 to (n*n) in such a way that all the row-wise, column-wise and diagonal-wise sums are equal to each other. The matrix thus obtained is called Magic Square and sum thus obtained is called the Magic Sum.**"
   ]
  },
  {
   "cell_type": "code",
   "execution_count": null,
   "id": "f62f6508-3036-47d4-be04-18d3fc942106",
   "metadata": {},
   "outputs": [],
   "source": [
    "\n",
    "      0   1   2   3   4        *   *   *        r = 0, c = n // 2                   n   magic_sum\n",
    "-------------------------     **  **  **        normally r -= 1 and c += 1        -----------------\n",
    " 0 | 17  24   1   8  15      * * * * * * *      for i = 1 to (n * n)                3   15\n",
    " 1 | 23   5   7  14  16     *  **  **  **          arr[r][c] = i                    5   65\n",
    " 2 |  4   6  13  20  22    *   *   *   *           update r and c                   7   175\n",
    " 3 | 10  12  19  21   3                         end for                             n   n * (n**2 + 1) // 2\n",
    " 4 | 11  18  25   2   9                                                           -----------------\n",
    "-------------------------         (1) Limit Check: (First)\n",
    "For n = 5 (Odd Integer)               col-wise folding:\n",
    "Range: 1 to 25, Magic Sum: 65             if (c == n) c = 0 (2/3)\n",
    "      0   1   2                       row-wise folding:\n",
    "-----------------                         if (r == -1) r = (n - 1) (3/2)\n",
    " 0 |  8   1   6                       corner-logic:\n",
    " 1 |  3   5   7                           if (r == -1 and c == n) r += 2; c -= 1 (1)\n",
    " 2 |  4   9   2           \n",
    "-----------------                 (2) Pre-Occupied Check: (Second)\n",
    "For n = 3 (Odd Integer)                   if (matrix[r][c] != 0) r += 2; c -= 1 (4)\n",
    "Range: 1 to 9, Magic Sum: 15"
   ]
  },
  {
   "cell_type": "code",
   "execution_count": 44,
   "id": "70649e20-07be-4f17-8848-de61fcdcc415",
   "metadata": {},
   "outputs": [
    {
     "name": "stdin",
     "output_type": "stream",
     "text": [
      "Please enter ODD integer number value for dimension:  9\n"
     ]
    },
    {
     "name": "stdout",
     "output_type": "stream",
     "text": [
      "Pre-Calculated Magic Sum: 369\n",
      "   47   58   69   80    1   12   23   34   45\n",
      "   57   68   79    9   11   22   33   44   46\n",
      "   67   78    8   10   21   32   43   54   56\n",
      "   77    7   18   20   31   42   53   55   66\n",
      "    6   17   19   30   41   52   63   65   76\n",
      "   16   27   29   40   51   62   64   75    5\n",
      "   26   28   39   50   61   72   74    4   15\n",
      "   36   38   49   60   71   73    3   14   25\n",
      "   37   48   59   70   81    2   13   24   35\n",
      "Post-Calculated Magic Sum: 369\n",
      "End of the program...\n"
     ]
    }
   ],
   "source": [
    "# implementation of the Magic Square\n",
    "while (True):\n",
    "    n = int(input(\"Please enter ODD integer number value for dimension: \"))\n",
    "    if (n % 2 == 1): break\n",
    "print (\"Pre-Calculated Magic Sum:\", n * (n**2 + 1) // 2)\n",
    "matrix = [[0 for col in range(n)] for row in range(n)]\n",
    "# print (matrix)\n",
    "r, c = 0, n // 2\n",
    "magic_sum = 0\n",
    "for i in range(1, (n ** 2) + 1):\n",
    "    matrix[r][c] = i\n",
    "    if (r == c): magic_sum += matrix[r][c]\n",
    "    r -= 1; c += 1\n",
    "    if (r == -1 and c == n): r += 2; c -= 1\n",
    "    elif (c == n): c = 0\n",
    "    elif (r == -1): r = (n - 1)\n",
    "    elif (matrix[r][c] != 0): r += 2; c -= 1\n",
    "for row in range(n):\n",
    "    for col in range(n):\n",
    "        print (\"%5d\"%matrix[row][col], end = \"\")\n",
    "    print (\"\")\n",
    "print (\"Post-Calculated Magic Sum:\", magic_sum)\n",
    "print (\"End of the program...\")"
   ]
  },
  {
   "cell_type": "markdown",
   "id": "e135aea5-adad-4894-816f-63d39e37d967",
   "metadata": {},
   "source": [
    "### Bit Manipulation"
   ]
  },
  {
   "cell_type": "code",
   "execution_count": null,
   "id": "8e13d30f-89ee-479a-bb3e-46c84144f317",
   "metadata": {},
   "outputs": [],
   "source": [
    "Bitwise Operators: & | ^ ~ << >>\n",
    "\n",
    "data1 = 100 => 100 = 64 + 32 + 4 = 0110 0100 => 0000 0000 0000 0000 0000 0000 0110 0100 (32 bits representation)\n",
    "data2 = 50  => 32 + 16 + 2       = 0011 0010 => 0000 0000 0000 0000 0000 0000 0011 0010 (32 bits representation)\n",
    "\n",
    "data3 = data1 & data2 (AND Operation)\n",
    "   0110 0100\n",
    " & 0011 0010\n",
    "   ---------\n",
    "   0010 0000 => 32\n",
    "\n",
    "data3 = data1 | data2 (OR Operation)\n",
    "   0110 0100\n",
    " | 0011 0010\n",
    "   ---------\n",
    "   0111 0110 => 118\n",
    "\n",
    "data3 = data1 ^ data2 (XOR Operation)\n",
    "   0110 0100\n",
    " ^ 0011 0010\n",
    "   ---------\n",
    "   0101 0110 => 86\n",
    "\n",
    "data3 = 1 => 0000 0001\n",
    "~data3 => 1111 1110 => -2 => 2's complement of 1111 1110 = 1's complement of 1111 1110 + 1 = 0000 0001 + 1 = 0000 0010 (2)\n",
    "\n",
    "Integer Data can have two representations:\n",
    "    Unsigned Representation => all n bits will represent magnitude of the number\n",
    "    Signed Representation => first bit as sign bit and rest (n-1) bits will represent magnitude part of the number\n",
    "                             First bit is 0 => +ve and 1 => -ve number\n",
    "        \n",
    "data1 = 100 => 100 = 64 + 32 + 4 = 0110 0100\n",
    "data1 << 3 = 100 << 3 = 0110 0100 << 3 = 011 0010 0000 = 512 + 256 + 32 = 800\n",
    "                                                   ---\n",
    "num << n = num * (2^n)\n",
    "\n",
    "data1 = 100 => 100 = 64 + 32 + 4 = 0110 0100\n",
    "data1 >> 2 = 100 >> 2 = 0110 0100 >> 2 = 0001 1001 = 25\n",
    "                                         --\n",
    "num << n = num / (2^n)\n",
    "\n",
    "1111 1111 = 1 0000 0000 - 1 = 2^8 - 1 = 256 - 1 = 255\n",
    "\n",
    "\n"
   ]
  },
  {
   "cell_type": "code",
   "execution_count": 12,
   "id": "6c9b25b9-6317-4f1a-ab0e-b726db180d60",
   "metadata": {},
   "outputs": [
    {
     "name": "stdout",
     "output_type": "stream",
     "text": [
      "data1 = 100 and data2 = 50\n",
      "100 & 50 = 32\n",
      "100 | 50 = 118\n",
      "100 ^ 50 = 86\n",
      "data3 = 1 and data4 = -2\n",
      "data1 << 3 = 800\n",
      "data1 >> 2 = 25\n"
     ]
    }
   ],
   "source": [
    "data1 = 100\n",
    "data2 = 50\n",
    "print (f\"data1 = {data1} and data2 = {data2}\")\n",
    "print (f\"{data1} & {data2} = {data1 & data2}\")\n",
    "print (f\"{data1} | {data2} = {data1 | data2}\")\n",
    "print (f\"{data1} ^ {data2} = {data1 ^ data2}\")\n",
    "\n",
    "data3 = 1\n",
    "data4 = ~data3\n",
    "print (f\"data3 = {data3} and data4 = {data4}\")\n",
    "\n",
    "print (f\"data1 << 3 = {data1 << 3}\")\n",
    "print (f\"data1 >> 2 = {data1 >> 2}\")"
   ]
  },
  {
   "cell_type": "markdown",
   "id": "4d32d4fe-41ce-40c5-b26d-7ef219abca33",
   "metadata": {},
   "source": [
    "### Rules in Bit Manipulation\n",
    "* data << n = data * (2^n)<br>\n",
    "* data >> n = data / (2^n)<br>\n",
    "* -1 = 1111...1 (n number of bits)<br>"
   ]
  },
  {
   "cell_type": "code",
   "execution_count": null,
   "id": "73066983-2e31-44c8-8fe6-febd501539bd",
   "metadata": {},
   "outputs": [],
   "source": [
    "# C++ Implementation\n",
    "#include <iostream>\n",
    "using namespace std;\n",
    "int main()\n",
    "{\n",
    "    int data1 = 100, data2 = 50, data3, data4;\n",
    "    cout << data1 << \", \" << data2 << endl;\n",
    "    cout << \"data1 & data2 = \" << (data1 & data2) << endl;\n",
    "    cout << \"data1 | data2 = \" << (data1 | data2) << endl;\n",
    "    cout << \"data1 ^ data2 = \" << (data1 ^ data2) << endl;\n",
    "\n",
    "    data3 = 1;\n",
    "    data4 = ~data3;\n",
    "    cout << data3 << \", \" << data4 << endl;\n",
    "    int result = data1 << 3;\n",
    "    cout << \"data1 << 3 = \" << result << endl;\n",
    "    result = data1 >> 2;\n",
    "    cout << \"data1 >> 2 = \" << result << endl;\n",
    "    \n",
    "    cout<<\"End of the program...\";\n",
    "    return 0;\n",
    "}"
   ]
  },
  {
   "cell_type": "code",
   "execution_count": 14,
   "id": "8b8a9a2e-f2f0-4e2b-be98-bbff03ffe299",
   "metadata": {},
   "outputs": [
    {
     "name": "stdout",
     "output_type": "stream",
     "text": [
      "False\n",
      "True\n"
     ]
    }
   ],
   "source": [
    "def isOdd(num):\n",
    "    return (num & 1) == 1\n",
    "\n",
    "print (isOdd(100))\n",
    "print (isOdd(151))"
   ]
  },
  {
   "cell_type": "code",
   "execution_count": 16,
   "id": "32355baa-2a1a-424c-a365-b951f39d282d",
   "metadata": {},
   "outputs": [
    {
     "name": "stdout",
     "output_type": "stream",
     "text": [
      "True\n",
      "False\n"
     ]
    }
   ],
   "source": [
    "def isEven(num):\n",
    "    return not isOdd(num)\n",
    "\n",
    "print (isEven(100))\n",
    "print (isEven(151))"
   ]
  },
  {
   "cell_type": "code",
   "execution_count": null,
   "id": "274361db-4dd3-435e-bd97-ec65419b5d55",
   "metadata": {},
   "outputs": [],
   "source": [
    "# In Java >>>\n",
    "num1 = 1100 1110\n",
    "num1 >>> 1 (Arithmetic Shift Right)\n",
    "1100 1110\n",
    "1110 0111   -> 0 x"
   ]
  },
  {
   "cell_type": "code",
   "execution_count": 18,
   "id": "61eb4c06-68b5-460f-9c5b-4e35f60ec058",
   "metadata": {},
   "outputs": [
    {
     "name": "stdout",
     "output_type": "stream",
     "text": [
      "Even\n",
      "Odd\n"
     ]
    }
   ],
   "source": [
    "n = 100\n",
    "print (\"Odd\" if (n & 1) else \"Even\")\n",
    "n = 151\n",
    "print (\"Odd\" if (n & 1) else \"Even\")\n",
    "# result = (n & 1)? \"Odd\": \"Even\"  in C, C++ and Java"
   ]
  },
  {
   "cell_type": "code",
   "execution_count": 22,
   "id": "388e5bca-34e7-4072-b019-546a895b08c7",
   "metadata": {},
   "outputs": [
    {
     "name": "stdout",
     "output_type": "stream",
     "text": [
      "1\n",
      "0\n",
      "1\n"
     ]
    }
   ],
   "source": [
    "def getBit(n, i):                  #7654 3210\n",
    "    # for getBit(20, 2) => 16 + 4 = 0001 0100, 2 => 1\n",
    "    #    0001 0100\n",
    "    #  & 0000 0100 (mask = 1 << 2)\n",
    "    #    ---------\n",
    "    #    0000 0100\n",
    "    return 1 if (n & (1 << i)) else 0\n",
    "\n",
    "print (getBit(20, 2))\n",
    "print (getBit(20, 3))\n",
    "print (getBit(20, 4))"
   ]
  },
  {
   "cell_type": "code",
   "execution_count": 23,
   "id": "3f646c40-5619-4417-9ad3-911f73cb180a",
   "metadata": {},
   "outputs": [
    {
     "name": "stdout",
     "output_type": "stream",
     "text": [
      "28\n"
     ]
    }
   ],
   "source": [
    "def setBit(n, i):                 #7654 3210\n",
    "    # for setBit(20, 3) = 16 + 4 = 0001 0100\n",
    "    # n | (1 << i) => 0001 0100 | 0000 1000 = 0001 1100 => 28\n",
    "    mask = 1 << i\n",
    "    return n | mask\n",
    "\n",
    "print (setBit(20, 3))"
   ]
  },
  {
   "cell_type": "code",
   "execution_count": 24,
   "id": "695417e1-5ebd-40ff-b123-d1c915653796",
   "metadata": {},
   "outputs": [
    {
     "name": "stdout",
     "output_type": "stream",
     "text": [
      "16\n"
     ]
    }
   ],
   "source": [
    "def clearBit(n, i):                 #7654 3210\n",
    "    # for clearBit(20, 2) = 16 + 4 = 0001 0100\n",
    "    #   0001 0100\n",
    "    # & 1111 1011 => mask => ~(1 << 2) => ~0000 0100 => 1111 1011\n",
    "    #   ---------\n",
    "    #   0001 0000 => 16\n",
    "    mask = ~(1 << i)\n",
    "    return n & mask\n",
    "\n",
    "print (clearBit(20, 2))"
   ]
  },
  {
   "cell_type": "code",
   "execution_count": null,
   "id": "8cb4da51-e98a-4ef4-bdb7-714726505274",
   "metadata": {},
   "outputs": [],
   "source": [
    "# C++ Implementation\n",
    "#include <iostream>\n",
    "using namespace std;\n",
    "int clearBit(int num, int i) {\n",
    "    int mask = ~(1 << i);\n",
    "    return num & mask;\n",
    "}\n",
    "int main()\n",
    "{\n",
    "    cout << clearBit(20, 2) << endl << endl;\n",
    "    cout<<\"End of the program...\";\n",
    "    return 0;\n",
    "}"
   ]
  },
  {
   "cell_type": "code",
   "execution_count": 25,
   "id": "24e2b221-365d-402b-8ca3-49d9f01d36f5",
   "metadata": {},
   "outputs": [
    {
     "name": "stdout",
     "output_type": "stream",
     "text": [
      "28\n"
     ]
    }
   ],
   "source": [
    "def updateBit(n, position, bit):        #7654 3210\n",
    "    # for updateBit(20, 3, 1) = 16 + 4 = 0001 0100\n",
    "    #   0001 0100\n",
    "    # & 1111 0111 => mask1 => ~(1 << 3) => ~0000 1000 => 1111 0111\n",
    "    #   ---------\n",
    "    #   0001 0100 => 20\n",
    "    # | 0000 1000 => mask2 => bit << position => 1 << 3\n",
    "    #   ---------\n",
    "    #   0001 1100 => 28\n",
    "    mask1 = ~(1 << position)\n",
    "    mask2 = bit << position\n",
    "    return (n & mask1) | mask2\n",
    "\n",
    "print (updateBit(20, 3, 1))"
   ]
  },
  {
   "cell_type": "code",
   "execution_count": 28,
   "id": "8752471b-5a1b-4491-9235-42aa4686b2a8",
   "metadata": {},
   "outputs": [
    {
     "data": {
      "text/plain": [
       "16"
      ]
     },
     "execution_count": 28,
     "metadata": {},
     "output_type": "execute_result"
    }
   ],
   "source": [
    "# Class Assignment - 1\n",
    "def clearLastIBits(n, i):\n",
    "    # For clearLastIBits(20, 4) => 0001 0100, 4 => 0001 0000 => 16\n",
    "    # mask = ~((1 << i) - 1)\n",
    "    # -1 = -0000 0001 => (2's complement) 1111 1110 + 1 = 1111 1111\n",
    "    mask = -1 << i\n",
    "    return n & mask\n",
    "    \n",
    "clearLastIBits(20, 4)"
   ]
  },
  {
   "cell_type": "code",
   "execution_count": 29,
   "id": "25fad4a1-5e81-43ad-8b8d-47fc1d7b072a",
   "metadata": {},
   "outputs": [
    {
     "data": {
      "text/plain": [
       "35"
      ]
     },
     "execution_count": 29,
     "metadata": {},
     "output_type": "execute_result"
    }
   ],
   "source": [
    "# Class Assignment - 2\n",
    "def clearRangeItoJ(num, i, j):                                 #7654 3210\n",
    "    # For clearRangeItoJ(63, 2, 4) => 32 + 16 + 8 + 4 + 2 + 1 = 0011 1111\n",
    "    #                                                              ----     mask1       mask2\n",
    "    #                                                (mask3)  & 1110 0011 (1110 0000 | 0000 0011)\n",
    "    #                                                           ---------\n",
    "    #                                                           0010 0011 => 32 + 2 + 1 = 35\n",
    "    # \n",
    "    mask1 = (-1) << (i + j - 1)\n",
    "    mask2 = ~((-1) << i)\n",
    "    mask3 = mask1 | mask2\n",
    "    return num & mask3\n",
    "    \n",
    "clearRangeItoJ(63, 2, 4)"
   ]
  },
  {
   "cell_type": "code",
   "execution_count": null,
   "id": "879fcd7c-bce7-4b9f-82df-ce7a6208a06c",
   "metadata": {},
   "outputs": [],
   "source": [
    "LeetCode: 231. Power of Two (https://leetcode.com/problems/power-of-two/)\n",
    "\n",
    "Given an integer n, return true if it is a power of two. Otherwise, return false.\n",
    "An integer n is a power of two, if there exists an integer x such that n == 2x.\n",
    "\n",
    "Example 1:\n",
    "Input: n = 1\n",
    "Output: true\n",
    "Explanation: 20 = 1\n",
    "\n",
    "Example 2:\n",
    "Input: n = 16\n",
    "Output: true\n",
    "Explanation: 24 = 16\n",
    "\n",
    "Example 3:\n",
    "Input: n = 3\n",
    "Output: false\n",
    "\n",
    "Constraints:\n",
    "-231 <= n <= 231 - 1\n",
    "\n",
    "Follow up: Could you solve it without loops/recursion?"
   ]
  },
  {
   "cell_type": "code",
   "execution_count": 31,
   "id": "3a45aad1-ce49-4cf2-9a37-bc596c4d288d",
   "metadata": {},
   "outputs": [
    {
     "name": "stdout",
     "output_type": "stream",
     "text": [
      "False\n",
      "True\n"
     ]
    }
   ],
   "source": [
    "class Solution(object):\n",
    "    def isPowerOfTwo(self, n):\n",
    "        \"\"\"\n",
    "        :type n: int\n",
    "        :rtype: bool\n",
    "        \"\"\"\n",
    "        p = 0\n",
    "        \n",
    "        while (2 ** p < n):\n",
    "            p = p + 1\n",
    "            \n",
    "        if (2 ** p == n): return True\n",
    "        else: return False\n",
    "        \n",
    "ob = Solution()\n",
    "print (ob.isPowerOfTwo(100))\n",
    "print (ob.isPowerOfTwo(128))"
   ]
  },
  {
   "cell_type": "code",
   "execution_count": 32,
   "id": "41a9f0f5-3a81-480a-b60a-c90efe8a662b",
   "metadata": {},
   "outputs": [
    {
     "name": "stdout",
     "output_type": "stream",
     "text": [
      "False\n",
      "True\n"
     ]
    }
   ],
   "source": [
    "class Solution(object):\n",
    "    def isPowerOfTwo(self, n):\n",
    "        \"\"\"\n",
    "        :type n: int\n",
    "        :rtype: bool\n",
    "        \"\"\"\n",
    "        p = 0\n",
    "        \n",
    "        while (2 ** p < n):\n",
    "            p = p + 1\n",
    "            \n",
    "        return 2 ** p == n\n",
    "    \n",
    "ob = Solution()\n",
    "print (ob.isPowerOfTwo(100))\n",
    "print (ob.isPowerOfTwo(128))"
   ]
  },
  {
   "cell_type": "code",
   "execution_count": null,
   "id": "491b12d5-6907-4163-815b-3dafbc9f2adc",
   "metadata": {},
   "outputs": [],
   "source": [
    "n = 100 = 64 + 32 + 4 = 0110 0100\n",
    "(n - 1) = 100 - 1 = 99 = 64 + 32 + 2 + 1 = 0110 0011\n",
    "n & (n - 1) = 0110 0100 & 0110 0011 = 0110 0000 != 0\n",
    "\n",
    "n = 128 = 1000 0000\n",
    "(n - 1) = 128 - 1 = 127 = 64 + 32 + 16 + 8 + 4 + 2 + 1 = 0111 1111\n",
    "n & (n - 1) = 1000 0000 & 0111 1111 == 0"
   ]
  },
  {
   "cell_type": "code",
   "execution_count": 36,
   "id": "b782c6e4-b510-4551-b552-d3cb2dfbb6a7",
   "metadata": {},
   "outputs": [
    {
     "name": "stdout",
     "output_type": "stream",
     "text": [
      "False\n",
      "True\n"
     ]
    }
   ],
   "source": [
    "class Solution(object):\n",
    "    def isPowerOfTwo(self, n):\n",
    "        \"\"\"\n",
    "        :type n: int\n",
    "        :rtype: bool\n",
    "        \"\"\"\n",
    "        # return n != 0 and n & (n - 1) == 0\n",
    "        return n > 0 and n & (n - 1) == 0\n",
    "ob = Solution()\n",
    "print (ob.isPowerOfTwo(100))\n",
    "print (ob.isPowerOfTwo(128))"
   ]
  },
  {
   "cell_type": "code",
   "execution_count": null,
   "id": "45d005a7-1382-4c56-ad0b-b434ca807b25",
   "metadata": {},
   "outputs": [],
   "source": [
    "LeetCode: 78. Subsets (https://leetcode.com/problems/subsets/)\n",
    "Given an integer array nums of unique elements, return all possible subsets (the power set).\n",
    "The solution set must not contain duplicate subsets. Return the solution in any order.\n",
    "\n",
    "Example 1:\n",
    "Input: nums = [1,2,3]\n",
    "Output: [[],[1],[2],[1,2],[3],[1,3],[2,3],[1,2,3]]\n",
    "\n",
    "Example 2:\n",
    "Input: nums = [0]\n",
    "Output: [[],[0]]\n",
    "\n",
    "Constraints:\n",
    "1 <= nums.length <= 10\n",
    "-10 <= nums[i] <= 10\n",
    "All the numbers of nums are unique."
   ]
  },
  {
   "cell_type": "code",
   "execution_count": null,
   "id": "e26cb086-c47c-404d-a5e2-e54fbe6ba362",
   "metadata": {},
   "outputs": [],
   "source": [
    "Input: nums = [11, 22, 33], len(nums) = 3, 2^3 = 8\n",
    "                0   0   0 => []\n",
    "                0   0   1 => [33]\n",
    "                0   1   0 => [22]\n",
    "                0   1   1 => [22, 33]\n",
    "                1   0   0 => [11]\n",
    "                1   0   1 => [11, 33]\n",
    "                1   1   0 => [11, 22]\n",
    "                1   1   1 => [11, 22, 33]\n",
    "[[], [11], [22], [11, 22], [33], [11, 33], [22, 33], [11, 22, 33]]"
   ]
  },
  {
   "cell_type": "code",
   "execution_count": 37,
   "id": "0e24d8f2-7582-4323-8638-8137194d661e",
   "metadata": {},
   "outputs": [
    {
     "name": "stdout",
     "output_type": "stream",
     "text": [
      "[[], [11], [22], [11, 22], [33], [11, 33], [22, 33], [11, 22, 33]]\n"
     ]
    }
   ],
   "source": [
    "class Solution(object):\n",
    "    def subsets(self, nums):\n",
    "        \"\"\"\n",
    "        :type nums: List[int]\n",
    "        :rtype: List[List[int]]\n",
    "        \"\"\"\n",
    "        nums_len = len(nums)\n",
    "        number = 0\n",
    "        result = []\n",
    "        while (number < (1 << nums_len)):  # 1 << 3 => 1000 = 8 = 2**3\n",
    "            result1 = []\n",
    "            value = number\n",
    "            pos = 0\n",
    "            while (value != 0):\n",
    "                if (value & 1):\n",
    "                    result1.append(nums[pos])\n",
    "                # value = value >> 1\n",
    "                value >>= 1\n",
    "                pos += 1\n",
    "            result.append(result1)\n",
    "            number += 1\n",
    "                \n",
    "        return result\n",
    "        \n",
    "ob = Solution()\n",
    "print (ob.subsets([11, 22, 33]))"
   ]
  },
  {
   "cell_type": "code",
   "execution_count": null,
   "id": "28b246db-8f6a-495e-9801-9d675e9e39c0",
   "metadata": {},
   "outputs": [],
   "source": []
  },
  {
   "cell_type": "code",
   "execution_count": null,
   "id": "a4089346-ecf8-4fe1-8d46-467f81d4673c",
   "metadata": {},
   "outputs": [],
   "source": []
  },
  {
   "cell_type": "code",
   "execution_count": null,
   "id": "41612efe-901b-466e-ba76-5e68aa9aad26",
   "metadata": {},
   "outputs": [],
   "source": []
  },
  {
   "cell_type": "code",
   "execution_count": null,
   "id": "d6a08de7-1930-4a70-ae2d-b38b13646b51",
   "metadata": {},
   "outputs": [],
   "source": []
  },
  {
   "cell_type": "code",
   "execution_count": null,
   "id": "ca4ed419-530b-4113-9ee9-047c4f58b5d5",
   "metadata": {},
   "outputs": [],
   "source": []
  },
  {
   "cell_type": "code",
   "execution_count": null,
   "id": "4b07ffd3-ba92-43d6-8b47-0c581af86245",
   "metadata": {},
   "outputs": [],
   "source": []
  },
  {
   "cell_type": "code",
   "execution_count": null,
   "id": "b3c4aa2a-5f10-4d88-be07-e8077e03642f",
   "metadata": {},
   "outputs": [],
   "source": []
  },
  {
   "cell_type": "code",
   "execution_count": null,
   "id": "d3e1c0cd-949d-4d59-b4a9-4e598b8369a6",
   "metadata": {},
   "outputs": [],
   "source": []
  },
  {
   "cell_type": "code",
   "execution_count": null,
   "id": "5ed8d053-1010-40dc-81f9-33e22d2dddb0",
   "metadata": {},
   "outputs": [],
   "source": []
  },
  {
   "cell_type": "code",
   "execution_count": null,
   "id": "5843e7be-020f-41d6-8598-d0601969ce1c",
   "metadata": {},
   "outputs": [],
   "source": []
  },
  {
   "cell_type": "code",
   "execution_count": null,
   "id": "86a07842-0061-4892-a827-0d8701ff097a",
   "metadata": {},
   "outputs": [],
   "source": []
  },
  {
   "cell_type": "code",
   "execution_count": null,
   "id": "19fea249-28a5-4c17-9e27-cfb4a6190bd5",
   "metadata": {},
   "outputs": [],
   "source": []
  },
  {
   "cell_type": "code",
   "execution_count": null,
   "id": "111fc441-50e5-4956-9c77-3a7063a8add1",
   "metadata": {},
   "outputs": [],
   "source": []
  },
  {
   "cell_type": "code",
   "execution_count": null,
   "id": "be6336d2-2db6-4ff6-92b1-ee1ea0fa254d",
   "metadata": {},
   "outputs": [],
   "source": []
  },
  {
   "cell_type": "code",
   "execution_count": null,
   "id": "8aaa491e-6c56-4526-bc1f-f1cecf388b98",
   "metadata": {},
   "outputs": [],
   "source": []
  }
 ],
 "metadata": {
  "kernelspec": {
   "display_name": "Python 3",
   "language": "python",
   "name": "python3"
  },
  "language_info": {
   "codemirror_mode": {
    "name": "ipython",
    "version": 3
   },
   "file_extension": ".py",
   "mimetype": "text/x-python",
   "name": "python",
   "nbconvert_exporter": "python",
   "pygments_lexer": "ipython3",
   "version": "3.8.8"
  }
 },
 "nbformat": 4,
 "nbformat_minor": 5
}
