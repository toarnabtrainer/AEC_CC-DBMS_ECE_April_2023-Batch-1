{
 "cells": [
  {
   "cell_type": "code",
   "execution_count": 3,
   "id": "75449a6d-5b58-4743-9cee-a162cdf4db91",
   "metadata": {},
   "outputs": [
    {
     "name": "stdout",
     "output_type": "stream",
     "text": [
      "Hello Hello Hello \n",
      "Welcome Welcome Welcome Welcome Welcome \n"
     ]
    }
   ],
   "source": [
    "print (\"Hello \" * 3)\n",
    "print (\"Welcome \" * 5)"
   ]
  },
  {
   "cell_type": "code",
   "execution_count": null,
   "id": "a1185243-6b52-4502-8277-b5937bf90540",
   "metadata": {},
   "outputs": [],
   "source": [
    "n = 11 (Odd)   m = (n + 1) // 2 = 6\n",
    "                  i   .   *\n",
    "                -------------\n",
    "***********       1   0  11        (i, m, n)\n",
    ".*********        2   1   9   . => (i - 1)\n",
    "..*******         3   2   7\n",
    "...*****          4   3   5   * => 2 * (m - i) + 1\n",
    "....***           5   4   3\n",
    ".....*          __6___5___1__\n",
    "....***           7   4   3\n",
    "...*****          8   3   5   . => (n - i)\n",
    "..*******         9   2   7\n",
    ".*********       10   1   9   * => 2 * (i - m) + 1\n",
    "***********      11   0  11\n",
    "                -------------\n",
    "                Tracing Table"
   ]
  },
  {
   "cell_type": "code",
   "execution_count": 7,
   "id": "ff36fb8d-d9c3-4a78-b7e7-40bcadb667b5",
   "metadata": {},
   "outputs": [
    {
     "name": "stdin",
     "output_type": "stream",
     "text": [
      "Please enter the ODD number of layers:  10\n",
      "Please enter the ODD number of layers:  20\n",
      "Please enter the ODD number of layers:  12\n",
      "Please enter the ODD number of layers:  14\n",
      "Please enter the ODD number of layers:  11\n"
     ]
    },
    {
     "name": "stdout",
     "output_type": "stream",
     "text": [
      "***********\n",
      ".*********\n",
      "..*******\n",
      "...*****\n",
      "....***\n",
      ".....*\n",
      "....***\n",
      "...*****\n",
      "..*******\n",
      ".*********\n",
      "***********\n",
      "End of the program...\n"
     ]
    }
   ],
   "source": [
    "while (True):\n",
    "    n = int(input(\"Please enter the ODD number of layers: \"))\n",
    "    if (n % 2 == 1): break\n",
    "m = (n + 1) // 2\n",
    "for i in range(1, n + 1):\n",
    "    if (i > m): blank = (n - i); star = 2 * (i - m) + 1\n",
    "    else: blank = (i - 1); star = 2 * (m - i) + 1\n",
    "    print (\".\" * blank + \"*\" * star)\n",
    "print (\"End of the program...\")"
   ]
  },
  {
   "cell_type": "code",
   "execution_count": null,
   "id": "2927177b-cb84-405d-bbf9-d7943bc81b4a",
   "metadata": {},
   "outputs": [],
   "source": [
    "# C++ Code\n",
    "#include <iostream>\n",
    "\n",
    "using namespace std;\n",
    "\n",
    "int main()\n",
    "{\n",
    "    int i, j, n, m, star, blank;\n",
    "    while (true) {\n",
    "        cout << \"Please enter the ODD number of layers: \";\n",
    "        cin >> n;\n",
    "        if (n % 2 == 1) break;\n",
    "    }\n",
    "    m = (n + 1) / 2;\n",
    "    for (i = 1; i <= n; i++) {\n",
    "        if (i > m) {\n",
    "            blank = (n - i);\n",
    "            star = 2 * (i - m) + 1;\n",
    "        } else {\n",
    "            blank = (i - 1); \n",
    "            star = 2 * (m - i) + 1;\n",
    "        }\n",
    "        for (j = 1; j <= blank; j++) cout << \".\";\n",
    "        for (j = 1; j <= star; j++) cout << \"*\";\n",
    "        cout << endl;\n",
    "    }\n",
    "    cout << \"\\nEnd of the program...\";\n",
    "    return 0;\n",
    "}"
   ]
  },
  {
   "cell_type": "code",
   "execution_count": null,
   "id": "3c62a92e-1862-42a8-bc98-63c8bf1aa0d6",
   "metadata": {},
   "outputs": [],
   "source": [
    "# Java Code\n",
    "import java.util.Scanner;\n",
    "public class Main {\n",
    "    public static void main(String[] args) {\n",
    "        Scanner scanner = new Scanner(System.in);\n",
    "        int n, m, b, s;\n",
    "        while (true) {\n",
    "            System.out.print(\"Please enter the ODD number of layers: \");\n",
    "            n = scanner.nextInt();\n",
    "            if (n % 2 == 1) \n",
    "            break;\n",
    "        }\n",
    "        m = (n + 1) / 2;\n",
    "        for (int i = 1; i <= n; i++) {\n",
    "            if (i > m) {\n",
    "                b = (n - i);\n",
    "                s = 2 * (i - m) + 1;\n",
    "            } else {\n",
    "                b = (i - 1);\n",
    "                s = 2 * (m - i) + 1;\n",
    "            }\n",
    "            for (int j = 1; j <= b; j++) {\n",
    "                System.out.print(\".\");\n",
    "            }\n",
    "            for (int j = 1; j <= s; j++) {\n",
    "                System.out.print(\"*\");\n",
    "            }\n",
    "            System.out.println();\n",
    "        }\n",
    "        System.out.println(\"End of the program...\");\n",
    "    }\n",
    "}"
   ]
  },
  {
   "cell_type": "code",
   "execution_count": null,
   "id": "645d5f51-d67f-4002-8136-9b9038913f0e",
   "metadata": {},
   "outputs": [],
   "source": [
    "# HOME WORK:\n",
    "\n",
    "     total = 1 + 2 + 3 + 4 + 10 + 5 + 6 + 7 + 8 + 26 + 9 + 10 + ... n terms\n",
    "Place No. -> 1   2   3   4   5    6   7   8   9   10  11   12 \n",
    "Find the total of this series for one user given value for n.\n",
    "\n",
    "What will be the 99th term of this sequence? -> 80\n",
    "\n",
    "As example:\n",
    "for n = 4, total = 10\n",
    "for n = 5, total = 20\n",
    "for n = 10, total = 72\n",
    "for n = 11, total = 81\n",
    "\n",
    "1 group -> 4 ordinary terms and 1 sum term -> 5 terms\n",
    "20 groups -> 80 ordinary terms and 20 sum terms -> 100 terms"
   ]
  },
  {
   "cell_type": "code",
   "execution_count": null,
   "id": "a821bb78-3517-4f8d-b940-57813f2f6468",
   "metadata": {},
   "outputs": [],
   "source": []
  },
  {
   "cell_type": "code",
   "execution_count": null,
   "id": "b782c6e4-b510-4551-b552-d3cb2dfbb6a7",
   "metadata": {},
   "outputs": [],
   "source": []
  },
  {
   "cell_type": "code",
   "execution_count": null,
   "id": "45d005a7-1382-4c56-ad0b-b434ca807b25",
   "metadata": {},
   "outputs": [],
   "source": []
  }
 ],
 "metadata": {
  "kernelspec": {
   "display_name": "Python 3",
   "language": "python",
   "name": "python3"
  },
  "language_info": {
   "codemirror_mode": {
    "name": "ipython",
    "version": 3
   },
   "file_extension": ".py",
   "mimetype": "text/x-python",
   "name": "python",
   "nbconvert_exporter": "python",
   "pygments_lexer": "ipython3",
   "version": "3.8.8"
  }
 },
 "nbformat": 4,
 "nbformat_minor": 5
}
