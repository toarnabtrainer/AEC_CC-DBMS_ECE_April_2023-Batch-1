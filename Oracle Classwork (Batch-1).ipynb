{
 "cells": [
  {
   "cell_type": "markdown",
   "id": "61267b20-09b0-4aae-bbb2-bd840e1d72a1",
   "metadata": {},
   "source": [
    "### **Join Operations in Oracle**\n",
    "1. The purpose of a join is to combine the data across tables.\n",
    "2. A join is actually performed by the where clause which combines the specified rows of tables\n",
    "3. If a join involves in more than two tables then Oracle joins the first two tables based on the join condition and then compares the result with the next table and so on."
   ]
  },
  {
   "cell_type": "markdown",
   "id": "d9beb821-229e-4124-9e24-da85ea5506a5",
   "metadata": {},
   "source": [
    "**All types on join operations in Oracle are:**\n",
    "1. Equi-join\n",
    "2. Non-Equi join\n",
    "3. Self join\n",
    "4. Natural join\n",
    "5. Cross join\n",
    "6. Outer join<br>\n",
    "    a. Left outer<br>\n",
    "    b. Right outer<br>\n",
    "    a. Full outer<br>\n",
    "7. Inner join"
   ]
  },
  {
   "cell_type": "markdown",
   "id": "53ffe950-fdaa-42fa-88ba-e6b16e2602a1",
   "metadata": {},
   "source": [
    "**Creating Table:**\n",
    "\n",
    "drop table department;<br>\n",
    "create table department (deptno number, dbname varchar2(15), loc varchar2(10));<br>\n",
    "insert into department values(10, 'Inventory', 'Hyderabad');<br>\n",
    "insert into department values(20, 'Finance', 'Bangalore');<br>\n",
    "insert into department values(30, 'HR', 'Mumbai');<br>\n",
    "insert into department values(50, 'IT', 'Delhi');<br>\n",
    "select * from department;<br>"
   ]
  },
  {
   "cell_type": "markdown",
   "id": "cd3b625d-96b9-4f58-ba22-d6902e0161fb",
   "metadata": {},
   "source": [
    "drop table employee;<br>\n",
    "create table employee (empno number, ename varchar2(15), job varchar2(10), mgr number, deptno number);<br>\n",
    "insert into employee values(111, 'Saketh', 'Analyst', 444, 10);<br>\n",
    "insert into employee values(222, 'Sudha', 'Clerk', 333, 20);<br>\n",
    "insert into employee values(333, 'Jagan', 'Manager', 111, 10);<br>\n",
    "insert into employee values(444, 'Madhu', 'Engineer', 222, 40);<br>"
   ]
  },
  {
   "cell_type": "markdown",
   "id": "881822ca-42dc-41f6-ad71-65c6a993cb0e",
   "metadata": {},
   "source": [
    "### Equi Join\n",
    "A join which contains an equal to \"=\" operator in the join conditions.<br>\n",
    "select * from employee e, department d where e.deptno = d.deptno;\n",
    "\n",
    "**Using clause:**<br>\n",
    "select * from employee e join department d using(deptno);\n",
    "\n",
    "**On clause:**<br>\n",
    "select * from employee e join department d on(e.deptno = d.deptno);"
   ]
  },
  {
   "cell_type": "markdown",
   "id": "50e02111-4f52-4f52-a706-1fc2501a0792",
   "metadata": {},
   "source": [
    "### Non-Equi join\n",
    "\n",
    "A join which contains an operator other than equal to '=' in the join conditions<br>\n",
    "select * from employee e, department d where e.deptno > d.deptno;"
   ]
  },
  {
   "cell_type": "markdown",
   "id": "a0ea0bc3-c754-4fb8-a923-a350d03f1c65",
   "metadata": {},
   "source": [
    "### Self join\n",
    "\n",
    "Joining the table with itself is called self join\n",
    "\n",
    "select * from employee e1, employee e2 where e1.empno = e2.mgr;"
   ]
  },
  {
   "cell_type": "markdown",
   "id": "035e895d-b11c-442f-bbdb-0d663c2a9016",
   "metadata": {},
   "source": [
    "### Natural join\n",
    "Natural join compares all the common columns.\n",
    "\n",
    "select * from employee natural join department;\n",
    "\n",
    "The output of this query is the same as the following query:<br>\n",
    "select * from employee e join department d using(deptno);"
   ]
  },
  {
   "cell_type": "markdown",
   "id": "591ff03e-474f-41af-8c4f-cdf9df73ede4",
   "metadata": {},
   "source": [
    "### Cross join\n",
    "\n",
    "This will produce the cross "
   ]
  },
  {
   "cell_type": "code",
   "execution_count": null,
   "id": "4c026973-cd8c-4941-b7f7-ce951c549744",
   "metadata": {},
   "outputs": [],
   "source": []
  }
 ],
 "metadata": {
  "kernelspec": {
   "display_name": "Python 3",
   "language": "python",
   "name": "python3"
  },
  "language_info": {
   "codemirror_mode": {
    "name": "ipython",
    "version": 3
   },
   "file_extension": ".py",
   "mimetype": "text/x-python",
   "name": "python",
   "nbconvert_exporter": "python",
   "pygments_lexer": "ipython3",
   "version": "3.8.8"
  }
 },
 "nbformat": 4,
 "nbformat_minor": 5
}
