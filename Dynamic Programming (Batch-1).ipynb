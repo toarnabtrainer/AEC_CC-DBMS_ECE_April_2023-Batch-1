{
 "cells": [
  {
   "cell_type": "markdown",
   "id": "e7bbcf99-262b-4c6b-baef-ca3d2de2428b",
   "metadata": {},
   "source": [
    "## **Dynamic Programming**"
   ]
  },
  {
   "cell_type": "markdown",
   "id": "f80dc387-0a39-411d-ac0c-c69076bb57bb",
   "metadata": {},
   "source": [
    "> Dynamic Programming is a technique that combines the correctness of complete search and also finds the efficiency of Greedy algorithms. Dynamic Programming can be applied if the problem can be divided into overlapping subproblems that can be solved independently.\n",
    "\n",
    "> There are two used of Dynamic Programming\n",
    "* **Finding an Optimal solution -** We want to find the solution that is as large as possible or as small as possible.\n",
    "* **Counting the number of solutions -**  We want to find to calculate the total number of possible and feasible solutions."
   ]
  },
  {
   "cell_type": "code",
   "execution_count": 2,
   "id": "b3ec8234-6ce0-45b8-8bd1-bb13819be7b7",
   "metadata": {},
   "outputs": [
    {
     "name": "stdout",
     "output_type": "stream",
     "text": [
      "3\n",
      "13\n"
     ]
    }
   ],
   "source": [
    "#       0   1   2   3   4   5   6   7    8    9    10\n",
    "# sum = 0 + 1 + 1 + 2 + 3 + 5 + 8 + 13 + 21 + 34 + 55 + ...\n",
    "# recursion calls for the stack to hold the return addresses while during the recursive calls,\n",
    "# thus enhancing both time (exponential) and space (extra stack space O(n)) complexities\n",
    "def fibonacciRecursive(n):\n",
    "    if (n == 0 or n == 1):    # base case\n",
    "        return n\n",
    "    ans = fibonacciRecursive(n - 1) + fibonacciRecursive(n - 2)    # recursive case\n",
    "    return ans\n",
    "\n",
    "print (fibonacciRecursive(4))\n",
    "print (fibonacciRecursive(7))"
   ]
  },
  {
   "cell_type": "code",
   "execution_count": 4,
   "id": "8a53f489-e091-46a6-8a16-4ee434625dea",
   "metadata": {},
   "outputs": [
    {
     "name": "stdin",
     "output_type": "stream",
     "text": [
      "Please enter the value for n:  7\n"
     ]
    },
    {
     "name": "stdout",
     "output_type": "stream",
     "text": [
      "13\n",
      "[0, 0, 1, 2, 3, 5, 8, 13]\n"
     ]
    }
   ],
   "source": [
    "#       0   1   2   3   4   5   6   7    8    9    10\n",
    "# sum = 0 + 1 + 1 + 2 + 3 + 5 + 8 + 13 + 21 + 34 + 55 + ...\n",
    "# implementing fibonacci problem in top-down approach\n",
    "def fibonacciDPTopDown(n, dp):\n",
    "    if (n == 0 or n == 1):\n",
    "        return n\n",
    "    if (dp[n] != 0):\n",
    "        return dp[n]\n",
    "    dp[n] = fibonacciDPTopDown(n - 1, dp) + fibonacciDPTopDown(n - 2, dp)\n",
    "    return dp[n]\n",
    "\n",
    "n = int(input(\"Please enter the value for n: \"))\n",
    "dp = [0 for i in range(n + 1)]\n",
    "print (fibonacciDPTopDown(n, dp))\n",
    "print (dp)"
   ]
  },
  {
   "cell_type": "code",
   "execution_count": 6,
   "id": "8799ea24-97eb-4421-81dc-8dd0bd4e73f5",
   "metadata": {},
   "outputs": [
    {
     "name": "stdin",
     "output_type": "stream",
     "text": [
      "Please enter the value for n:  5\n"
     ]
    },
    {
     "name": "stdout",
     "output_type": "stream",
     "text": [
      "[0, 1, 1, 2, 3, 5]\n",
      "5\n"
     ]
    }
   ],
   "source": [
    "#       0   1   2   3   4   5   6   7    8    9    10\n",
    "# sum = 0 + 1 + 1 + 2 + 3 + 5 + 8 + 13 + 21 + 34 + 55 + ...\n",
    "# implementing fibonacci problem in bottom-up approach\n",
    "# here time complexity is O(n) and space complexity is O(n)\n",
    "def fibonacciDPBottomUp(n):\n",
    "    dp = [0 for i in range(n + 1)]\n",
    "    dp[0] = 0\n",
    "    dp[1] = 1\n",
    "    for i in range(2, n + 1):\n",
    "        dp[i] = dp[i - 1] + dp[i - 2]\n",
    "    print (dp)\n",
    "    return dp[n]\n",
    "\n",
    "n = int(input(\"Please enter the value for n: \"))\n",
    "print (fibonacciDPBottomUp(n))"
   ]
  },
  {
   "cell_type": "code",
   "execution_count": 8,
   "id": "b88fbcef-4d71-48c6-9967-2d99d825814d",
   "metadata": {},
   "outputs": [
    {
     "name": "stdin",
     "output_type": "stream",
     "text": [
      "Please enter the value for n:  5\n"
     ]
    },
    {
     "name": "stdout",
     "output_type": "stream",
     "text": [
      "5\n"
     ]
    }
   ],
   "source": [
    "#       0   1   2   3   4   5   6   7    8    9    10\n",
    "# sum = 0 + 1 + 1 + 2 + 3 + 5 + 8 + 13 + 21 + 34 + 55 + ...\n",
    "# implementing fibonacci problem in bottom-up approach\n",
    "# here time complexity is O(n) and space complexity is O(1)\n",
    "def fibonacciDPBottomUpSpaceOptimized(n):\n",
    "    if (n == 0 or n == 1):\n",
    "        return n\n",
    "    f1 = 0\n",
    "    f2 = 1\n",
    "    for i in range(2, n + 1):\n",
    "        f3 = f1 + f2\n",
    "        f1 = f2\n",
    "        f2 = f3\n",
    "    return f3\n",
    "n = int(input(\"Please enter the value for n: \"))\n",
    "print (fibonacciDPBottomUpSpaceOptimized(n))"
   ]
  },
  {
   "cell_type": "code",
   "execution_count": null,
   "id": "fbb3b558-3e9d-436a-8627-3b73a0a8ed5f",
   "metadata": {},
   "outputs": [],
   "source": [
    "LeetCode 509. Fibonacci Number (https://leetcode.com/problems/fibonacci-number/)\n",
    "The Fibonacci numbers, commonly denoted F(n) form a sequence, called the Fibonacci sequence, such that each number\n",
    "is the sum of the two preceding ones, starting from 0 and 1. That is,\n",
    "\n",
    "F(0) = 0, F(1) = 1\n",
    "F(n) = F(n - 1) + F(n - 2), for n > 1.\n",
    "Given n, calculate F(n).\n",
    "\n",
    "Example 1:\n",
    "Input: n = 2\n",
    "Output: 1\n",
    "Explanation: F(2) = F(1) + F(0) = 1 + 0 = 1.\n",
    "    \n",
    "Example 2:\n",
    "Input: n = 3\n",
    "Output: 2\n",
    "Explanation: F(3) = F(2) + F(1) = 1 + 1 = 2.\n",
    "    \n",
    "Example 3:\n",
    "Input: n = 4\n",
    "Output: 3\n",
    "Explanation: F(4) = F(3) + F(2) = 2 + 1 = 3.\n",
    "\n",
    "Constraints:\n",
    "0 <= n <= 30"
   ]
  },
  {
   "cell_type": "code",
   "execution_count": 10,
   "id": "7d2d8bba-d367-447a-833a-0cb24c08dd54",
   "metadata": {},
   "outputs": [
    {
     "name": "stdout",
     "output_type": "stream",
     "text": [
      "2\n",
      "5\n"
     ]
    }
   ],
   "source": [
    "class Solution(object):\n",
    "    def fib(self, n):\n",
    "        \"\"\"\n",
    "        :type n: int\n",
    "        :rtype: int\n",
    "        \"\"\"\n",
    "        if (n == 0 or n == 1): return n\n",
    "        f1 = 0\n",
    "        f2 = 1\n",
    "        for i in range(2, n + 1):\n",
    "            f3 = f1 + f2\n",
    "            f1 = f2\n",
    "            f2 = f3\n",
    "        return f3\n",
    "    \n",
    "print (Solution().fib(3))\n",
    "print (Solution().fib(5))"
   ]
  },
  {
   "cell_type": "code",
   "execution_count": null,
   "id": "0c06a1db-1c99-4af2-ba12-0d82a92483c0",
   "metadata": {},
   "outputs": [],
   "source": [
    "LeetCode: 300. Longest Increasing Subsequence (https://leetcode.com/problems/longest-increasing-subsequence/)\n",
    "Given an integer array nums, return the length of the longest strictly increasing subsequence.\n",
    "\n",
    "Example 1:\n",
    "Input: nums = [10,9,2,5,3,7,101,18]\n",
    "Output: 4\n",
    "Explanation: The longest increasing subsequence is [2,3,7,101], therefore the length is 4.\n",
    "\n",
    "Example 2:\n",
    "Input: nums = [0,1,0,3,2,3]\n",
    "Output: 4\n",
    "\n",
    "Example 3:\n",
    "Input: nums = [7,7,7,7,7,7,7]\n",
    "Output: 1\n",
    "\n",
    "Constraints:\n",
    "1 <= nums.length <= 2500\n",
    "-104 <= nums[i] <= 104\n",
    "\n",
    "Follow up: Can you come up with an algorithm that runs in O(n log(n)) time complexity?"
   ]
  },
  {
   "cell_type": "code",
   "execution_count": 13,
   "id": "f9e82371-44e0-424c-bd44-dae35f0aedd3",
   "metadata": {},
   "outputs": [
    {
     "name": "stdout",
     "output_type": "stream",
     "text": [
      "[1, 2, 1, 1, 1, 1, 1, 1, 1, 1]\n",
      "[1, 2, 1, 1, 1, 1, 1, 1, 1, 1]\n",
      "[1, 2, 1, 3, 1, 1, 1, 1, 1, 1]\n",
      "[1, 2, 1, 3, 2, 1, 1, 1, 1, 1]\n",
      "[1, 2, 1, 3, 2, 4, 1, 1, 1, 1]\n",
      "[1, 2, 1, 3, 2, 4, 4, 1, 1, 1]\n",
      "[1, 2, 1, 3, 2, 4, 4, 5, 1, 1]\n",
      "[1, 2, 1, 3, 2, 4, 4, 5, 6, 1]\n",
      "[1, 2, 1, 3, 2, 4, 4, 5, 6, 1]\n",
      "6\n",
      "[1, 1, 1, 1, 1, 1, 1, 1]\n",
      "[1, 1, 1, 1, 1, 1, 1, 1]\n",
      "[1, 1, 1, 2, 1, 1, 1, 1]\n",
      "[1, 1, 1, 2, 2, 1, 1, 1]\n",
      "[1, 1, 1, 2, 2, 3, 1, 1]\n",
      "[1, 1, 1, 2, 2, 3, 4, 1]\n",
      "[1, 1, 1, 2, 2, 3, 4, 4]\n",
      "4\n"
     ]
    }
   ],
   "source": [
    "class Solution(object):\n",
    "    def lengthOfLIS(self, nums):\n",
    "        \"\"\"\n",
    "        :type nums: List[int]\n",
    "        :rtype: int\n",
    "        \"\"\"\n",
    "        n = len(nums)\n",
    "        if (n <= 1): return n\n",
    "        dp = [1 for i in range(n)]\n",
    "        for i in range(1, n):\n",
    "            for j in range(i):\n",
    "                if (nums[j] < nums[i]):\n",
    "                    currlength = 1 + dp[j]\n",
    "                    dp[i] = max(currlength, dp[i])\n",
    "            print (dp)\n",
    "        return max(dp)\n",
    "    \n",
    "print (Solution().lengthOfLIS([10, 22, 9, 33, 21, 50, 41, 60, 80, 6]))\n",
    "print (Solution().lengthOfLIS([10, 9, 2, 5, 3, 7, 101, 18]))"
   ]
  },
  {
   "cell_type": "code",
   "execution_count": null,
   "id": "bfb349b9-1353-4763-9611-9595f5005cbe",
   "metadata": {},
   "outputs": [],
   "source": [
    "LeetCode: 1143. Longest Common Subsequence (https://leetcode.com/problems/longest-common-subsequence/)\n",
    "\n",
    "Given two strings text1 and text2, return the length of their longest common subsequence.\n",
    "If there is no common subsequence, return 0.\n",
    "\n",
    "A subsequence of a string is a new string generated from the original string with some characters (can be none)\n",
    "deleted without changing the relative order of the remaining characters.\n",
    "\n",
    "For example, \"ace\" is a subsequence of \"abcde\".\n",
    "A common subsequence of two strings is a subsequence that is common to both strings.\n",
    "\n",
    "Example 1:\n",
    "Input: text1 = \"abcde\", text2 = \"ace\" \n",
    "Output: 3  \n",
    "Explanation: The longest common subsequence is \"ace\" and its length is 3.\n",
    "\n",
    "Example 2:\n",
    "Input: text1 = \"abc\", text2 = \"abc\"\n",
    "Output: 3\n",
    "Explanation: The longest common subsequence is \"abc\" and its length is 3.\n",
    "\n",
    "Example 3:\n",
    "Input: text1 = \"abc\", text2 = \"def\"\n",
    "Output: 0\n",
    "Explanation: There is no such common subsequence, so the result is 0.\n",
    "\n",
    "Constraints:\n",
    "1 <= text1.length, text2.length <= 1000\n",
    "text1 and text2 consist of only lowercase English characters."
   ]
  },
  {
   "cell_type": "code",
   "execution_count": 22,
   "id": "f4e53dc5-05af-4582-af23-50ba5c5c7743",
   "metadata": {},
   "outputs": [
    {
     "name": "stdout",
     "output_type": "stream",
     "text": [
      "7 6\n",
      "   0   0   0   0   0   0   0\n",
      "   0   0   1   1   1   1   1\n",
      "   0   0   1   1   1   1   1\n",
      "   0   0   1   1   2   2   2\n",
      "   0   0   1   1   2   2   2\n",
      "   0   0   1   1   2   2   2\n",
      "   0   1   1   1   2   3   3\n",
      "   0   1   1   1   2   3   4\n",
      "4\n"
     ]
    }
   ],
   "source": [
    "class Solution(object):\n",
    "    def longestCommonSubsequence(self, text1, text2):\n",
    "        \"\"\"\n",
    "        :type text1: str\n",
    "        :type text2: str\n",
    "        :rtype: int\n",
    "        \"\"\"\n",
    "        xlen = len(text1)\n",
    "        ylen = len(text2)\n",
    "        print (xlen, ylen)\n",
    "        dp = [[0 for j in range(ylen + 1)] for i in range(xlen + 1)]\n",
    "        # print (dp)\n",
    "        for i in range(xlen + 1): dp[i][0] = 0\n",
    "        for j in range(ylen + 1): dp[0][j] = 0\n",
    "            \n",
    "        for i in range(1, xlen + 1):\n",
    "            for j in range(1, ylen + 1):\n",
    "                q = 0\n",
    "                if (text1[i - 1] == text2[j - 1]):\n",
    "                    q = 1 + dp[i - 1][j - 1]\n",
    "                else:\n",
    "                    q = max(dp[i][j - 1], dp[i - 1][j])\n",
    "                dp[i][j] = q\n",
    "        for i in range(0, xlen + 1):\n",
    "            for j in range(0, ylen + 1):\n",
    "                print (\"%4d\"%(dp[i][j]), end = \"\")\n",
    "            print (\"\")\n",
    "        return dp[xlen][ylen]\n",
    "        \n",
    "print (Solution().longestCommonSubsequence(\"GXTXTAB\", \"AGGTAB\"))"
   ]
  },
  {
   "cell_type": "markdown",
   "id": "9f894196-f7ac-4332-871b-2fe7cfc83a3c",
   "metadata": {},
   "source": [
    "### Minimum Steps to Reach 1"
   ]
  },
  {
   "cell_type": "code",
   "execution_count": 28,
   "id": "0fc2fd08-113d-474f-a645-8e819dfd8696",
   "metadata": {},
   "outputs": [
    {
     "name": "stdout",
     "output_type": "stream",
     "text": [
      "3\n",
      "[0, 0, 1, 1, 2, 3, 2, 3, 3, 2, 3]\n"
     ]
    }
   ],
   "source": [
    "# import math\n",
    "def minStepToOneTopDown(n, dp):\n",
    "    # base case\n",
    "    if (n == 1): return 0\n",
    "    # recursive case\n",
    "    # lookup if for n already computed or not\n",
    "    if (dp[n] != 0): return dp[n]\n",
    "    op1 = op2 = op3 = n   # math.inf\n",
    "    if (n % 3 == 0): op1 = minStepToOneTopDown(n // 3, dp) + 1\n",
    "    elif (n % 2 == 0): op2 = minStepToOneTopDown(n // 2, dp) + 1\n",
    "    op3 = minStepToOneTopDown(n - 1, dp) + 1\n",
    "    ans = min(op1, op2, op3)\n",
    "    dp[n] = ans\n",
    "    return ans\n",
    "\n",
    "n = 10\n",
    "dp = [0 for i in range(n + 1)]\n",
    "print (minStepToOneTopDown(n, dp))\n",
    "print (dp)"
   ]
  },
  {
   "cell_type": "code",
   "execution_count": 30,
   "id": "14caa9ff-1fc8-4e66-9289-1e8423514167",
   "metadata": {},
   "outputs": [
    {
     "name": "stdout",
     "output_type": "stream",
     "text": [
      "[0, 0, 1, 0, 0, 0, 0, 0, 0, 0, 0]\n",
      "[0, 0, 1, 1, 0, 0, 0, 0, 0, 0, 0]\n",
      "[0, 0, 1, 1, 2, 0, 0, 0, 0, 0, 0]\n",
      "[0, 0, 1, 1, 2, 3, 0, 0, 0, 0, 0]\n",
      "[0, 0, 1, 1, 2, 3, 2, 0, 0, 0, 0]\n",
      "[0, 0, 1, 1, 2, 3, 2, 3, 0, 0, 0]\n",
      "[0, 0, 1, 1, 2, 3, 2, 3, 3, 0, 0]\n",
      "[0, 0, 1, 1, 2, 3, 2, 3, 3, 2, 0]\n",
      "[0, 0, 1, 1, 2, 3, 2, 3, 3, 2, 3]\n"
     ]
    },
    {
     "data": {
      "text/plain": [
       "3"
      ]
     },
     "execution_count": 30,
     "metadata": {},
     "output_type": "execute_result"
    }
   ],
   "source": [
    "import math\n",
    "def minStepToOneBottomUp(n):\n",
    "    dp = [0 for i in range(n + 1)]\n",
    "    dp[1] = 0\n",
    "    # iterating on n\n",
    "    for i in range(2, n + 1):\n",
    "        op1 = op2 = op3 = n   # math.inf\n",
    "        if (i % 3 == 0): op1 = dp[i // 3]\n",
    "        elif (i % 2 == 0): op2 = dp[i // 2]\n",
    "        op3 = dp[i - 1]\n",
    "        dp[i] = min(op1, op2, op3) + 1\n",
    "        print (dp)\n",
    "    return dp[n]\n",
    "\n",
    "n = 10\n",
    "minStepToOneBottomUp(n)"
   ]
  },
  {
   "cell_type": "code",
   "execution_count": null,
   "id": "dbae27d3-cb66-4861-99c1-67dc1fcd63e2",
   "metadata": {},
   "outputs": [],
   "source": [
    "LeetCode: 70. Climbing Stairs (https://leetcode.com/problems/climbing-stairs/)\n",
    "\n",
    "You are climbing a staircase. It takes n steps to reach the top.\n",
    "Each time you can either climb 1 or 2 steps. In how many distinct ways can you climb to the top?\n",
    "\n",
    "Example 1:\n",
    "Input: n = 2\n",
    "Output: 2\n",
    "Explanation: There are two ways to climb to the top.\n",
    "1. 1 step + 1 step\n",
    "2. 2 steps\n",
    "\n",
    "Example 2:\n",
    "Input: n = 3\n",
    "Output: 3\n",
    "Explanation: There are three ways to climb to the top.\n",
    "1. 1 step + 1 step + 1 step\n",
    "2. 1 step + 2 steps\n",
    "3. 2 steps + 1 step\n",
    "\n",
    "Constraints:\n",
    "1 <= n <= 45"
   ]
  },
  {
   "cell_type": "code",
   "execution_count": 31,
   "id": "600c4e22-5658-4dc0-9d46-52f5864c48e1",
   "metadata": {},
   "outputs": [
    {
     "name": "stdout",
     "output_type": "stream",
     "text": [
      "[0, 1, 2, 3, 5, 8, 13, 21, 34, 55, 89]\n"
     ]
    },
    {
     "data": {
      "text/plain": [
       "89"
      ]
     },
     "execution_count": 31,
     "metadata": {},
     "output_type": "execute_result"
    }
   ],
   "source": [
    "class Solution(object):\n",
    "    def climbStairs(self, n):\n",
    "        \"\"\"\n",
    "        :type n: int\n",
    "        :rtype: int\n",
    "        \"\"\"\n",
    "        if (n == 1 or n == 2): return n\n",
    "        dp = [0 for i in range(n + 1)]\n",
    "        dp[1] = 1\n",
    "        dp[2] = 2\n",
    "        for i in range(2, n):\n",
    "            dp[i + 1] = dp[i] + dp[i - 1]\n",
    "        print (dp)\n",
    "        return dp[n]\n",
    "    \n",
    "Solution().climbStairs(10)"
   ]
  },
  {
   "cell_type": "code",
   "execution_count": null,
   "id": "dd239c0b-d4e3-48d8-856a-56384de35630",
   "metadata": {},
   "outputs": [],
   "source": [
    "# Java Implementation\n",
    "class Solution {\n",
    "    public int climbStairs(int n) {\n",
    "        int []dp=new int[n+1];\n",
    "        dp[1]=1;\n",
    "        if(n+1>2)\n",
    "        dp[2]=2;\n",
    "        for(int i=3;i<=n;i++)\n",
    "        {\n",
    "            dp[i]=dp[i-1]+dp[i-2];\n",
    "        }\n",
    "        return dp[n];\n",
    "        \n",
    "    }\n",
    "}"
   ]
  },
  {
   "cell_type": "code",
   "execution_count": null,
   "id": "08344572-e576-4b98-ac3b-79f9636fdf36",
   "metadata": {},
   "outputs": [],
   "source": [
    "# C++ Implementation\n",
    "class Solution {\n",
    "public:\n",
    "    int climbStairs(int n) {\n",
    "        if(n<=2)\n",
    "         return n;\n",
    "        vector<int> dp(n+1);\n",
    "        dp[0]=0;\n",
    "        dp[1]=1;\n",
    "        dp[2]=2;\n",
    "        for(int i=3;i<=n;i++)\n",
    "         dp[i]=dp[i-1]+dp[i-2];\n",
    "        \n",
    "        return dp[n];\n",
    "    }\n",
    "};"
   ]
  },
  {
   "cell_type": "markdown",
   "id": "d6275c07-66be-47f9-8ebc-50be1feed913",
   "metadata": {},
   "source": [
    "### Coin Change Problem"
   ]
  },
  {
   "cell_type": "code",
   "execution_count": null,
   "id": "6c492f56-5728-4401-97c3-af3c3a94e53e",
   "metadata": {},
   "outputs": [],
   "source": [
    "LeetCode: 322. Coin Change (https://leetcode.com/problems/coin-change/)\n",
    "You are given an integer array coins representing coins of different denominations and an integer amount representing\n",
    "a total amount of money.\n",
    "\n",
    "Return the fewest number of coins that you need to make up that amount. If that amount of money cannot be made up by\n",
    "any combination of the coins, return -1.\n",
    "\n",
    "You may assume that you have an infinite number of each kind of coin.\n",
    "\n",
    "Example 1:\n",
    "Input: coins = [1,2,5], amount = 11\n",
    "Output: 3\n",
    "Explanation: 11 = 5 + 5 + 1\n",
    "\n",
    "Example 2:\n",
    "Input: coins = [2], amount = 3\n",
    "Output: -1\n",
    "\n",
    "Example 3:\n",
    "Input: coins = [1], amount = 0\n",
    "Output: 0\n",
    "\n",
    "Constraints:\n",
    "1 <= coins.length <= 12\n",
    "1 <= coins[i] <= 2^31 - 1\n",
    "0 <= amount <= 104"
   ]
  },
  {
   "cell_type": "code",
   "execution_count": 37,
   "id": "07199200-d662-4bf8-b682-8a5325addc54",
   "metadata": {},
   "outputs": [
    {
     "name": "stdout",
     "output_type": "stream",
     "text": [
      "3\n",
      "[0, 0, 0, 0, 0, 0, 0, 0, 0, 0, 0]\n",
      "[0, 1, 0, 0, 0, 0, 0, 0, 0, 0, 0]\n",
      "[0, 1, 2, 0, 0, 0, 0, 0, 0, 0, 0]\n",
      "[0, 1, 2, 3, 0, 0, 0, 0, 0, 0, 0]\n",
      "[0, 1, 2, 3, 4, 0, 0, 0, 0, 0, 0]\n",
      "[0, 1, 2, 3, 4, 5, 0, 0, 0, 0, 0]\n",
      "[0, 1, 2, 3, 4, 5, 6, 0, 0, 0, 0]\n",
      "[0, 1, 2, 3, 4, 5, 6, 1, 0, 0, 0]\n",
      "[0, 1, 2, 3, 4, 5, 6, 1, 2, 0, 0]\n",
      "[0, 1, 2, 3, 4, 5, 6, 1, 2, 3, 0]\n",
      "[0, 1, 2, 3, 4, 5, 6, 1, 2, 3, 1]\n"
     ]
    },
    {
     "data": {
      "text/plain": [
       "1"
      ]
     },
     "execution_count": 37,
     "metadata": {},
     "output_type": "execute_result"
    }
   ],
   "source": [
    "import math\n",
    "class Solution:\n",
    "    # def coinChange(self, coins: List[int], amount: int) -> int:\n",
    "    def coinChange(self, coins, amount):\n",
    "        T = len(coins)\n",
    "        print (T)\n",
    "        dp = [0 for i in range(amount + 1)]\n",
    "        print (dp)\n",
    "        # iterate over all states 1 to amount\n",
    "        for n in range(1, amount + 1):\n",
    "            # initialize the current ans as maximum\n",
    "            dp[n] = math.inf\n",
    "            for i in range(T):\n",
    "                if ((n - coins[i]) >= 0):\n",
    "                    subproblem = dp[n - coins[i]]\n",
    "                    dp[n] = min(dp[n], subproblem + 1)\n",
    "            print (dp)\n",
    "        if (dp[amount] == math.inf): return -1\n",
    "        return dp[amount]\n",
    "        \n",
    "# Solution().coinChange([1, 2, 5], 11)\n",
    "Solution().coinChange([1, 7, 10], 10)"
   ]
  },
  {
   "cell_type": "code",
   "execution_count": null,
   "id": "541e586f-6ca7-4614-97cd-746b880dccf3",
   "metadata": {},
   "outputs": [],
   "source": [
    "# Run it on LeetCode with Python3\n",
    "class Solution:\n",
    "    def coinChange(self, coins: List[int], amount: int) -> int:\n",
    "        T = len(coins)\n",
    "        print (T)\n",
    "        dp = [0 for i in range(amount + 1)]\n",
    "        print (dp)\n",
    "        # iterate over all states 1 to amount\n",
    "        for n in range(1, amount + 1):\n",
    "            # initialize the current ans as maximum\n",
    "            dp[n] = math.inf\n",
    "            for i in range(T):\n",
    "                if ((n - coins[i]) >= 0):\n",
    "                    subproblem = dp[n - coins[i]]\n",
    "                    dp[n] = min(dp[n], subproblem + 1)\n",
    "            # print (dp)\n",
    "        if (dp[amount] == math.inf): return -1\n",
    "        return dp[amount] "
   ]
  },
  {
   "cell_type": "code",
   "execution_count": null,
   "id": "be40eea6-87aa-421c-9de2-a58befb66439",
   "metadata": {},
   "outputs": [],
   "source": [
    "# Java Implementation\n",
    "class Solution {\n",
    "    public int coinChange(int[] coins, int amount) {\n",
    "        int dp[] = new int[amount + 1];\n",
    "        Arrays.fill(dp, Integer.MAX_VALUE);\n",
    "        dp[0] = 0;\n",
    "        for (int i = 0; i < coins.length; i++) {\n",
    "            \n",
    "            for (int j = coins[i]; j < dp.length; j++) {\n",
    "                if (dp[j - coins[i]] != Integer.MAX_VALUE) {\n",
    "                    dp[j] = Math.min(dp[j], dp[j - coins[i]] + 1);\n",
    "                }\n",
    "            }\n",
    "        }\n",
    "        return dp[dp.length - 1] == Integer.MAX_VALUE ? -1 : dp[dp.length - 1];\n",
    "    }\n",
    "}"
   ]
  },
  {
   "cell_type": "markdown",
   "id": "5c92e93e-78c6-4b68-83a4-473ea31ce376",
   "metadata": {},
   "source": [
    "### **Wines Problem**"
   ]
  },
  {
   "cell_type": "markdown",
   "id": "5b7a20e0-47ea-4f0e-b261-53118f52096a",
   "metadata": {},
   "source": [
    "**There are n number of wine bottles are there with prices in P[n]. Each year one wine bottle can be sold. So to sell n wine bottles we require n years. Each year the wine bottle price will increase. At k-th year the price of i-th bottle of wine p[i] will be sold at the price y * p[i]. We can sell either left most or right most of the wine bottles. Find the sequence in which all these wine bottles will have to be sold so that maximum price can be obtained.**"
   ]
  },
  {
   "cell_type": "code",
   "execution_count": 38,
   "id": "f9859da0-0e95-448c-80e3-41509820adfa",
   "metadata": {},
   "outputs": [
    {
     "name": "stdout",
     "output_type": "stream",
     "text": [
      "23\n"
     ]
    }
   ],
   "source": [
    "def wineProfitTopDownRecursive(wines, i, j, y):\n",
    "    # base case\n",
    "    if (i > j): return 0\n",
    "    # recursive case\n",
    "    price1 = wines[i] * y + wineProfitTopDownRecursive(wines, i + 1, j, y + 1)\n",
    "    price2 = wines[j] * y + wineProfitTopDownRecursive(wines, i, j - 1, y + 1)\n",
    "    return max(price1, price2)\n",
    "\n",
    "wines = [2, 3, 5]\n",
    "n = len(wines)\n",
    "print (wineProfitTopDownRecursive(wines, 0, n - 1, 1))"
   ]
  },
  {
   "cell_type": "code",
   "execution_count": null,
   "id": "2fa0b31f-ac75-49a1-af3c-133891bf8d7a",
   "metadata": {},
   "outputs": [],
   "source": [
    "# C++ Implementation\n",
    "#include <iostream>\n",
    "#include <vector>\n",
    "\n",
    "using namespace std;\n",
    "\n",
    "int wineProfitTopDown(vector<int> wines , int i, int j, int y){\n",
    "    if(i>j)\n",
    "    return 0;\n",
    "    int price1 = wines[i] * y + wineProfitTopDown(wines, i+1, j, y+1);\n",
    "    int price2 = wines[i] * y + wineProfitTopDown(wines, i, j-1, y+1);\n",
    "    return max(price1, price2);\n",
    "}\n",
    "\n",
    "int main()\n",
    "{\n",
    "    vector<int> wines;\n",
    "    wines.push_back(2);\n",
    "    wines.push_back(3);\n",
    "    wines.push_back(5);\n",
    "    int n = wines.size();\n",
    "    cout<< wineProfitTopDown(wines, 0, n-1, 1)<<endl;\n",
    "    return 0;\n",
    "}"
   ]
  },
  {
   "cell_type": "code",
   "execution_count": null,
   "id": "e0a3dc06-c00f-4549-a179-90d2c2680a07",
   "metadata": {},
   "outputs": [],
   "source": [
    "# Java Implementation\n",
    "#include <iostream>\n",
    "#include <vector>\n",
    "\n",
    "using namespace std;\n",
    "\n",
    "int wineProfitTopDown(vector<int> wines , int i, int j, int y){\n",
    "    if(i>j)\n",
    "    return 0;\n",
    "    int price1 = wines[i] * y + wineProfitTopDown(wines, i+1, j, y+1);\n",
    "    int price2 = wines[i] * y + wineProfitTopDown(wines, i, j-1, y+1);\n",
    "    return max(price1, price2);\n",
    "}\n",
    "\n",
    "int main()\n",
    "{\n",
    "    vector<int> wines;\n",
    "    wines.push_back(2);\n",
    "    wines.push_back(3);\n",
    "    wines.push_back(5);\n",
    "    int n = wines.size();\n",
    "    cout<< wineProfitTopDown(wines, 0, n-1, 1)<<endl;\n",
    "    return 0;\n",
    "}\n",
    "\n",
    "public class Main\n",
    "{\n",
    "    \n",
    "\n",
    "public static int wineProfitTopDownRecursive(int[] wines, int i, int j, int y) {\n",
    "    // base case\n",
    "    if (i > j) return 0;\n",
    "    // recursive case\n",
    "    int price1 = wines[i] * y + wineProfitTopDownRecursive(wines, i + 1, j, y + 1);\n",
    "    int price2 = wines[j] * y + wineProfitTopDownRecursive(wines, i, j - 1, y + 1);\n",
    "    return Math.max(price1, price2);\n",
    "}\n",
    "\n",
    "public static void main(String[] args) {\n",
    "    int[] wines = {2, 3, 5};\n",
    "    int n = wines.length;\n",
    "    System.out.println(wineProfitTopDownRecursive(wines, 0,n-1,1));\n",
    "}\n",
    "}"
   ]
  },
  {
   "cell_type": "code",
   "execution_count": 39,
   "id": "66c8e0b6-161c-47d7-a495-700015b6101b",
   "metadata": {},
   "outputs": [
    {
     "name": "stdout",
     "output_type": "stream",
     "text": [
      "23\n",
      "[[6, 13, 23], [0, 9, 21], [0, 0, 15]]\n"
     ]
    }
   ],
   "source": [
    "def wineProfitTopDownDP(wines, i, j, y, dp):\n",
    "    # base case\n",
    "    if (i > j): return 0\n",
    "    # return if solution at dp[i][j] exists\n",
    "    if (dp[i][j] != 0): return dp[i][j]\n",
    "    # recursive case\n",
    "    price1 = wines[i] * y + wineProfitTopDownDP(wines, i + 1, j, y + 1, dp)\n",
    "    price2 = wines[j] * y + wineProfitTopDownDP(wines, i, j - 1, y + 1, dp)\n",
    "    dp[i][j] = max(price1, price2)\n",
    "    return dp[i][j]\n",
    "\n",
    "wines = [2, 3, 5]\n",
    "n = len(wines)\n",
    "dp = [[0 for i in range(n)] for j in range(n)]\n",
    "print (wineProfitTopDownDP(wines, 0, n - 1, 1, dp))\n",
    "print (dp)"
   ]
  },
  {
   "cell_type": "code",
   "execution_count": 40,
   "id": "a6a6a0d0-cd6c-4652-91f2-a4026223c2b3",
   "metadata": {},
   "outputs": [
    {
     "name": "stdout",
     "output_type": "stream",
     "text": [
      "[[6, 13, 23], [0, 9, 21], [0, 0, 15]]\n",
      "23\n"
     ]
    }
   ],
   "source": [
    "def wineProfitBottomUpDP(wines):\n",
    "    n = len(wines)\n",
    "    dp = [[0 for col in range(n)] for row in range(n)]\n",
    "    y = n\n",
    "    for row in range(n):\n",
    "        dp[row][row] = wines[row] * y\n",
    "    y = y - 1\n",
    "    for startcol in range(1, n):\n",
    "        col = startcol\n",
    "        row = 0\n",
    "        while (col < n):\n",
    "            dp[row][col] = max(wines[col] * y + dp[row][col - 1], wines[row] * y + dp[row + 1][col])\n",
    "            col += 1\n",
    "            row += 1\n",
    "        y -= 1\n",
    "    print (dp)\n",
    "    return (dp[0][n -1])\n",
    "\n",
    "wines = [2, 3, 5]\n",
    "print (wineProfitBottomUpDP(wines))"
   ]
  },
  {
   "cell_type": "code",
   "execution_count": null,
   "id": "7fec8e1e-bdb1-4350-8a2f-219e169bf658",
   "metadata": {},
   "outputs": [],
   "source": [
    "\n"
   ]
  },
  {
   "cell_type": "code",
   "execution_count": null,
   "id": "f3317bbc-b35d-4f9b-aa13-d4717e702ecb",
   "metadata": {},
   "outputs": [],
   "source": []
  },
  {
   "cell_type": "code",
   "execution_count": null,
   "id": "8b5b801c-2812-4e20-a3ec-e5c78d3ae642",
   "metadata": {},
   "outputs": [],
   "source": []
  },
  {
   "cell_type": "code",
   "execution_count": null,
   "id": "c54e5055-e919-4c03-a0d0-b5d0aa414f47",
   "metadata": {},
   "outputs": [],
   "source": []
  },
  {
   "cell_type": "code",
   "execution_count": null,
   "id": "c9e69a20-041b-494f-b298-1d005d55500a",
   "metadata": {},
   "outputs": [],
   "source": []
  },
  {
   "cell_type": "code",
   "execution_count": null,
   "id": "e2bd7cb1-e604-4607-a87d-950ed30cdeb6",
   "metadata": {},
   "outputs": [],
   "source": []
  },
  {
   "cell_type": "code",
   "execution_count": null,
   "id": "5d7b788a-76e1-407f-b1ae-e3b7f16d5c69",
   "metadata": {},
   "outputs": [],
   "source": []
  },
  {
   "cell_type": "code",
   "execution_count": null,
   "id": "cdb1abcf-5822-4dbb-9cc4-ea515a3ab2d2",
   "metadata": {},
   "outputs": [],
   "source": []
  },
  {
   "cell_type": "code",
   "execution_count": null,
   "id": "12fe6a4c-2e8a-4100-a383-17c290142d7f",
   "metadata": {},
   "outputs": [],
   "source": []
  },
  {
   "cell_type": "code",
   "execution_count": null,
   "id": "cf0d7937-401d-46fd-96d2-d7a0b1f24c09",
   "metadata": {},
   "outputs": [],
   "source": []
  },
  {
   "cell_type": "code",
   "execution_count": null,
   "id": "edc1b71c-e83d-4e48-ba60-2024f7e1421e",
   "metadata": {},
   "outputs": [],
   "source": []
  },
  {
   "cell_type": "code",
   "execution_count": null,
   "id": "7c3e93a3-0f4e-4025-8838-433d22be2021",
   "metadata": {},
   "outputs": [],
   "source": []
  },
  {
   "cell_type": "code",
   "execution_count": null,
   "id": "3b1a45f4-249d-449d-9a0a-de6907b02854",
   "metadata": {},
   "outputs": [],
   "source": []
  },
  {
   "cell_type": "code",
   "execution_count": null,
   "id": "4ff9c72f-816f-4f62-aa31-cb1bab824853",
   "metadata": {},
   "outputs": [],
   "source": []
  },
  {
   "cell_type": "code",
   "execution_count": null,
   "id": "0479d3a1-fa8e-483e-b039-66aca13969e4",
   "metadata": {},
   "outputs": [],
   "source": []
  },
  {
   "cell_type": "code",
   "execution_count": null,
   "id": "cf8de3dc-1c05-4807-a6e1-1e92acc676d2",
   "metadata": {},
   "outputs": [],
   "source": []
  }
 ],
 "metadata": {
  "kernelspec": {
   "display_name": "Python 3",
   "language": "python",
   "name": "python3"
  },
  "language_info": {
   "codemirror_mode": {
    "name": "ipython",
    "version": 3
   },
   "file_extension": ".py",
   "mimetype": "text/x-python",
   "name": "python",
   "nbconvert_exporter": "python",
   "pygments_lexer": "ipython3",
   "version": "3.8.8"
  }
 },
 "nbformat": 4,
 "nbformat_minor": 5
}
